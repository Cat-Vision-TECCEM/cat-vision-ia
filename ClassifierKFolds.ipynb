{
  "nbformat": 4,
  "nbformat_minor": 0,
  "metadata": {
    "colab": {
      "provenance": []
    },
    "kernelspec": {
      "name": "python3",
      "display_name": "Python 3"
    },
    "language_info": {
      "name": "python"
    },
    "accelerator": "GPU",
    "gpuClass": "standard"
  },
  "cells": [
    {
      "cell_type": "markdown",
      "source": [
        "# Definición de los modelos."
      ],
      "metadata": {
        "id": "lBDG8PYiX4Sc"
      }
    },
    {
      "cell_type": "markdown",
      "source": [
        "Debido a que el notebook está hecho en Google Collab, las imágenes están guardadas en Google Drive, primero es necesario ubicarnos en el folder correspondiente donde están todas nuestras imágenes."
      ],
      "metadata": {
        "id": "EqPsTgTjX9PD"
      }
    },
    {
      "cell_type": "code",
      "execution_count": null,
      "metadata": {
        "colab": {
          "base_uri": "https://localhost:8080/"
        },
        "id": "e5DkBHC_uE0J",
        "outputId": "18bce6f6-2ce2-4cfb-dee1-b945e2af1af7"
      },
      "outputs": [
        {
          "output_type": "stream",
          "name": "stdout",
          "text": [
            "/content/drive/.shortcut-targets-by-id/1-jD7WLMdUgZYVERC_Q9SBlSQEm5HyziM/Sprite_refri\n"
          ]
        }
      ],
      "source": [
        "%cd drive/MyDrive/Sprite_refri"
      ]
    },
    {
      "cell_type": "markdown",
      "source": [
        "Se hacen los imports necesarios para que el código funcione."
      ],
      "metadata": {
        "id": "VnSQlAsDYqI-"
      }
    },
    {
      "cell_type": "code",
      "source": [
        "import numpy as np\n",
        "import pandas as pd\n",
        "import tensorflow as tf\n",
        "import os\n",
        "import shutil\n",
        "from sklearn.model_selection import StratifiedKFold\n",
        "from tensorflow import keras\n",
        "from tensorflow.keras import layers\n",
        "from tensorflow.keras.models import Sequential\n",
        "from tensorflow.keras.applications import VGG16\n",
        "from tensorflow.keras.optimizers import Adam"
      ],
      "metadata": {
        "id": "jA8FdoF8yLTd"
      },
      "execution_count": null,
      "outputs": []
    },
    {
      "cell_type": "markdown",
      "source": [
        "Se definen constantes."
      ],
      "metadata": {
        "id": "Rgjvc_PVYt6W"
      }
    },
    {
      "cell_type": "code",
      "source": [
        "VAL_ACCURACY = [] #Lista con todos los accuracys de cada fold\n",
        "MODELS = []  #Lista con todos los modelos\n",
        "EPOCHS = []  #Lista con el número de épocas para cada modelo\n",
        "train_data_dir = os.getcwd() + '/train'  #Directorio de los datos de entrenamiento\n",
        "val_data_dir = os.getcwd() + '/validation'  #Directorio de los datos de validación\n",
        "img_height = 224  #Altura de las imágenes\n",
        "img_width = 224  #Ancho de las imágenes\n",
        "batch_size = 32  #Tamaño del batch\n",
        "CLASSES = 21  #Número de clases (SKUs)\n",
        "AUTOTUNE = tf.data.AUTOTUNE "
      ],
      "metadata": {
        "id": "V01EW5-FaHt8"
      },
      "execution_count": null,
      "outputs": []
    },
    {
      "cell_type": "markdown",
      "source": [
        "Para fines de demostración, se define inicialmente el primer modelo a utilizar (un modelo hecho a mano) de la siguiente manera:"
      ],
      "metadata": {
        "id": "Cz0ViMmBZINQ"
      }
    },
    {
      "cell_type": "code",
      "source": [
        "#Se crea una capa de normalización y de data augmentation\n",
        "normalization_layer = layers.Rescaling(1./255)\n",
        "\n",
        "data_augmentation = keras.Sequential(\n",
        "  [\n",
        "    #Se agrega un random flip, rotation y zoom\n",
        "    layers.RandomFlip(\"horizontal\",\n",
        "                      input_shape=(img_height,\n",
        "                                  img_width,\n",
        "                                  3)),\n",
        "    layers.RandomRotation(0.1),\n",
        "    layers.RandomZoom(0.1),\n",
        "  ]\n",
        ")\n",
        "\n",
        "#Se crea el modelo con sus capas convolutivas, de dropout y densas\n",
        "model = Sequential([\n",
        "  data_augmentation,\n",
        "  layers.Rescaling(1./255),\n",
        "  layers.Conv2D(16, 3, padding='same', activation='relu'),\n",
        "  layers.MaxPooling2D(),\n",
        "  layers.Conv2D(32, 3, padding='same', activation='relu'),\n",
        "  layers.MaxPooling2D(),\n",
        "  layers.Conv2D(64, 3, padding='same', activation='relu'),\n",
        "  layers.MaxPooling2D(),\n",
        "  layers.Dropout(0.2),\n",
        "  layers.Flatten(),\n",
        "  layers.Dense(128, activation='relu'),\n",
        "  layers.Dense(CLASSES)\n",
        "])"
      ],
      "metadata": {
        "id": "U2jPtI_RwYHq"
      },
      "execution_count": null,
      "outputs": []
    },
    {
      "cell_type": "markdown",
      "source": [
        "Inicialmente se ocupó una capa densa con menos neuronas y no se utilizó una capa de dropout, sin embargo estos dos factores se cambiaron lo cual hizo que mejorara la presición y el presupuesto del modelo."
      ],
      "metadata": {
        "id": "KADlwPvpaI5z"
      }
    },
    {
      "cell_type": "code",
      "source": [
        "model.summary()"
      ],
      "metadata": {
        "colab": {
          "base_uri": "https://localhost:8080/"
        },
        "id": "f8M2hoVBwiJD",
        "outputId": "fb96ae19-8677-4b6f-858b-edf361cb378d"
      },
      "execution_count": null,
      "outputs": [
        {
          "output_type": "stream",
          "name": "stdout",
          "text": [
            "Model: \"sequential_1\"\n",
            "_________________________________________________________________\n",
            " Layer (type)                Output Shape              Param #   \n",
            "=================================================================\n",
            " sequential (Sequential)     (None, 224, 224, 3)       0         \n",
            "                                                                 \n",
            " rescaling_1 (Rescaling)     (None, 224, 224, 3)       0         \n",
            "                                                                 \n",
            " conv2d (Conv2D)             (None, 224, 224, 16)      448       \n",
            "                                                                 \n",
            " max_pooling2d (MaxPooling2D  (None, 112, 112, 16)     0         \n",
            " )                                                               \n",
            "                                                                 \n",
            " conv2d_1 (Conv2D)           (None, 112, 112, 32)      4640      \n",
            "                                                                 \n",
            " max_pooling2d_1 (MaxPooling  (None, 56, 56, 32)       0         \n",
            " 2D)                                                             \n",
            "                                                                 \n",
            " conv2d_2 (Conv2D)           (None, 56, 56, 64)        18496     \n",
            "                                                                 \n",
            " max_pooling2d_2 (MaxPooling  (None, 28, 28, 64)       0         \n",
            " 2D)                                                             \n",
            "                                                                 \n",
            " dropout (Dropout)           (None, 28, 28, 64)        0         \n",
            "                                                                 \n",
            " flatten (Flatten)           (None, 50176)             0         \n",
            "                                                                 \n",
            " dense (Dense)               (None, 128)               6422656   \n",
            "                                                                 \n",
            " dense_1 (Dense)             (None, 21)                2709      \n",
            "                                                                 \n",
            "=================================================================\n",
            "Total params: 6,448,949\n",
            "Trainable params: 6,448,949\n",
            "Non-trainable params: 0\n",
            "_________________________________________________________________\n"
          ]
        }
      ]
    },
    {
      "cell_type": "markdown",
      "source": [
        "Este modelo es relativamente sencillo ya que contiene una cantidad moderada de parámetros para entrenar."
      ],
      "metadata": {
        "id": "zf79HBLCajRQ"
      }
    },
    {
      "cell_type": "markdown",
      "source": [
        "# Preprocesamiento de los datos."
      ],
      "metadata": {
        "id": "-laBokeHape1"
      }
    },
    {
      "cell_type": "markdown",
      "source": [
        "Debido a que la función image_dataset_from_directory no es compatible con los k-folds será necesario crear un .csv que almacene el path original de cada imagen junto con sus etiquetas para cambiar los datasets cada fold."
      ],
      "metadata": {
        "id": "-r_v0uTJvFCe"
      }
    },
    {
      "cell_type": "code",
      "source": [
        "main_directory = os.listdir('train')\n",
        "\n",
        "with open('products.csv', 'w', encoding='utf-8') as file:\n",
        "  file.write('filename,label\\n')\n",
        "  #Se itera sobre cada folder del directorio principal (cada directorio representa una clase)\n",
        "  for folder in main_directory:\n",
        "    folder_path = os.getcwd() + '/train/' + folder\n",
        "    folder_directory = os.listdir(folder_path)\n",
        "    for image in folder_directory:\n",
        "      #Se itera sobre cada imagen de cada sub-directorio y se escribe su path y label en el .csv\n",
        "      image_path = folder_path + '/' + image\n",
        "      file.write(image_path + ',' + folder + '\\n')\n",
        "file.close()"
      ],
      "metadata": {
        "id": "xL20Frt2vBDr"
      },
      "execution_count": null,
      "outputs": []
    },
    {
      "cell_type": "markdown",
      "source": [
        "Posterior a esto se crea un dataset con este .csv para facilitar el acceso a la información."
      ],
      "metadata": {
        "id": "3EgN-agybnnL"
      }
    },
    {
      "cell_type": "code",
      "source": [
        "data = pd.read_csv('products.csv')\n",
        "data"
      ],
      "metadata": {
        "id": "heaop-2gvnXI",
        "colab": {
          "base_uri": "https://localhost:8080/",
          "height": 424
        },
        "outputId": "7ba94950-5d78-41d3-8c99-8782dd5c3bba"
      },
      "execution_count": null,
      "outputs": [
        {
          "output_type": "execute_result",
          "data": {
            "text/plain": [
              "                                              filename          label\n",
              "0    /content/drive/.shortcut-targets-by-id/1-jD7WL...  powerade_lata\n",
              "1    /content/drive/.shortcut-targets-by-id/1-jD7WL...  powerade_lata\n",
              "2    /content/drive/.shortcut-targets-by-id/1-jD7WL...  powerade_lata\n",
              "3    /content/drive/.shortcut-targets-by-id/1-jD7WL...  powerade_lata\n",
              "4    /content/drive/.shortcut-targets-by-id/1-jD7WL...  powerade_lata\n",
              "..                                                 ...            ...\n",
              "331  /content/drive/.shortcut-targets-by-id/1-jD7WL...   sprite_600ml\n",
              "332  /content/drive/.shortcut-targets-by-id/1-jD7WL...   sprite_600ml\n",
              "333  /content/drive/.shortcut-targets-by-id/1-jD7WL...   sprite_600ml\n",
              "334  /content/drive/.shortcut-targets-by-id/1-jD7WL...   sprite_600ml\n",
              "335  /content/drive/.shortcut-targets-by-id/1-jD7WL...   sprite_600ml\n",
              "\n",
              "[336 rows x 2 columns]"
            ],
            "text/html": [
              "\n",
              "  <div id=\"df-d6f85f16-4163-40d6-a1eb-c06356cfcc52\">\n",
              "    <div class=\"colab-df-container\">\n",
              "      <div>\n",
              "<style scoped>\n",
              "    .dataframe tbody tr th:only-of-type {\n",
              "        vertical-align: middle;\n",
              "    }\n",
              "\n",
              "    .dataframe tbody tr th {\n",
              "        vertical-align: top;\n",
              "    }\n",
              "\n",
              "    .dataframe thead th {\n",
              "        text-align: right;\n",
              "    }\n",
              "</style>\n",
              "<table border=\"1\" class=\"dataframe\">\n",
              "  <thead>\n",
              "    <tr style=\"text-align: right;\">\n",
              "      <th></th>\n",
              "      <th>filename</th>\n",
              "      <th>label</th>\n",
              "    </tr>\n",
              "  </thead>\n",
              "  <tbody>\n",
              "    <tr>\n",
              "      <th>0</th>\n",
              "      <td>/content/drive/.shortcut-targets-by-id/1-jD7WL...</td>\n",
              "      <td>powerade_lata</td>\n",
              "    </tr>\n",
              "    <tr>\n",
              "      <th>1</th>\n",
              "      <td>/content/drive/.shortcut-targets-by-id/1-jD7WL...</td>\n",
              "      <td>powerade_lata</td>\n",
              "    </tr>\n",
              "    <tr>\n",
              "      <th>2</th>\n",
              "      <td>/content/drive/.shortcut-targets-by-id/1-jD7WL...</td>\n",
              "      <td>powerade_lata</td>\n",
              "    </tr>\n",
              "    <tr>\n",
              "      <th>3</th>\n",
              "      <td>/content/drive/.shortcut-targets-by-id/1-jD7WL...</td>\n",
              "      <td>powerade_lata</td>\n",
              "    </tr>\n",
              "    <tr>\n",
              "      <th>4</th>\n",
              "      <td>/content/drive/.shortcut-targets-by-id/1-jD7WL...</td>\n",
              "      <td>powerade_lata</td>\n",
              "    </tr>\n",
              "    <tr>\n",
              "      <th>...</th>\n",
              "      <td>...</td>\n",
              "      <td>...</td>\n",
              "    </tr>\n",
              "    <tr>\n",
              "      <th>331</th>\n",
              "      <td>/content/drive/.shortcut-targets-by-id/1-jD7WL...</td>\n",
              "      <td>sprite_600ml</td>\n",
              "    </tr>\n",
              "    <tr>\n",
              "      <th>332</th>\n",
              "      <td>/content/drive/.shortcut-targets-by-id/1-jD7WL...</td>\n",
              "      <td>sprite_600ml</td>\n",
              "    </tr>\n",
              "    <tr>\n",
              "      <th>333</th>\n",
              "      <td>/content/drive/.shortcut-targets-by-id/1-jD7WL...</td>\n",
              "      <td>sprite_600ml</td>\n",
              "    </tr>\n",
              "    <tr>\n",
              "      <th>334</th>\n",
              "      <td>/content/drive/.shortcut-targets-by-id/1-jD7WL...</td>\n",
              "      <td>sprite_600ml</td>\n",
              "    </tr>\n",
              "    <tr>\n",
              "      <th>335</th>\n",
              "      <td>/content/drive/.shortcut-targets-by-id/1-jD7WL...</td>\n",
              "      <td>sprite_600ml</td>\n",
              "    </tr>\n",
              "  </tbody>\n",
              "</table>\n",
              "<p>336 rows × 2 columns</p>\n",
              "</div>\n",
              "      <button class=\"colab-df-convert\" onclick=\"convertToInteractive('df-d6f85f16-4163-40d6-a1eb-c06356cfcc52')\"\n",
              "              title=\"Convert this dataframe to an interactive table.\"\n",
              "              style=\"display:none;\">\n",
              "        \n",
              "  <svg xmlns=\"http://www.w3.org/2000/svg\" height=\"24px\"viewBox=\"0 0 24 24\"\n",
              "       width=\"24px\">\n",
              "    <path d=\"M0 0h24v24H0V0z\" fill=\"none\"/>\n",
              "    <path d=\"M18.56 5.44l.94 2.06.94-2.06 2.06-.94-2.06-.94-.94-2.06-.94 2.06-2.06.94zm-11 1L8.5 8.5l.94-2.06 2.06-.94-2.06-.94L8.5 2.5l-.94 2.06-2.06.94zm10 10l.94 2.06.94-2.06 2.06-.94-2.06-.94-.94-2.06-.94 2.06-2.06.94z\"/><path d=\"M17.41 7.96l-1.37-1.37c-.4-.4-.92-.59-1.43-.59-.52 0-1.04.2-1.43.59L10.3 9.45l-7.72 7.72c-.78.78-.78 2.05 0 2.83L4 21.41c.39.39.9.59 1.41.59.51 0 1.02-.2 1.41-.59l7.78-7.78 2.81-2.81c.8-.78.8-2.07 0-2.86zM5.41 20L4 18.59l7.72-7.72 1.47 1.35L5.41 20z\"/>\n",
              "  </svg>\n",
              "      </button>\n",
              "      \n",
              "  <style>\n",
              "    .colab-df-container {\n",
              "      display:flex;\n",
              "      flex-wrap:wrap;\n",
              "      gap: 12px;\n",
              "    }\n",
              "\n",
              "    .colab-df-convert {\n",
              "      background-color: #E8F0FE;\n",
              "      border: none;\n",
              "      border-radius: 50%;\n",
              "      cursor: pointer;\n",
              "      display: none;\n",
              "      fill: #1967D2;\n",
              "      height: 32px;\n",
              "      padding: 0 0 0 0;\n",
              "      width: 32px;\n",
              "    }\n",
              "\n",
              "    .colab-df-convert:hover {\n",
              "      background-color: #E2EBFA;\n",
              "      box-shadow: 0px 1px 2px rgba(60, 64, 67, 0.3), 0px 1px 3px 1px rgba(60, 64, 67, 0.15);\n",
              "      fill: #174EA6;\n",
              "    }\n",
              "\n",
              "    [theme=dark] .colab-df-convert {\n",
              "      background-color: #3B4455;\n",
              "      fill: #D2E3FC;\n",
              "    }\n",
              "\n",
              "    [theme=dark] .colab-df-convert:hover {\n",
              "      background-color: #434B5C;\n",
              "      box-shadow: 0px 1px 3px 1px rgba(0, 0, 0, 0.15);\n",
              "      filter: drop-shadow(0px 1px 2px rgba(0, 0, 0, 0.3));\n",
              "      fill: #FFFFFF;\n",
              "    }\n",
              "  </style>\n",
              "\n",
              "      <script>\n",
              "        const buttonEl =\n",
              "          document.querySelector('#df-d6f85f16-4163-40d6-a1eb-c06356cfcc52 button.colab-df-convert');\n",
              "        buttonEl.style.display =\n",
              "          google.colab.kernel.accessAllowed ? 'block' : 'none';\n",
              "\n",
              "        async function convertToInteractive(key) {\n",
              "          const element = document.querySelector('#df-d6f85f16-4163-40d6-a1eb-c06356cfcc52');\n",
              "          const dataTable =\n",
              "            await google.colab.kernel.invokeFunction('convertToInteractive',\n",
              "                                                     [key], {});\n",
              "          if (!dataTable) return;\n",
              "\n",
              "          const docLinkHtml = 'Like what you see? Visit the ' +\n",
              "            '<a target=\"_blank\" href=https://colab.research.google.com/notebooks/data_table.ipynb>data table notebook</a>'\n",
              "            + ' to learn more about interactive tables.';\n",
              "          element.innerHTML = '';\n",
              "          dataTable['output_type'] = 'display_data';\n",
              "          await google.colab.output.renderOutput(dataTable, element);\n",
              "          const docLink = document.createElement('div');\n",
              "          docLink.innerHTML = docLinkHtml;\n",
              "          element.appendChild(docLink);\n",
              "        }\n",
              "      </script>\n",
              "    </div>\n",
              "  </div>\n",
              "  "
            ]
          },
          "metadata": {},
          "execution_count": 8
        }
      ]
    },
    {
      "cell_type": "markdown",
      "source": [
        "Se crea una columna Y que contiene todos los labels, esta se ocupará para iterar sobre los folds."
      ],
      "metadata": {
        "id": "jUVtUE6HbwBd"
      }
    },
    {
      "cell_type": "code",
      "source": [
        "Y = data[['label']]\n",
        "Y"
      ],
      "metadata": {
        "colab": {
          "base_uri": "https://localhost:8080/",
          "height": 424
        },
        "id": "AdOTROarXrG-",
        "outputId": "2b4d0c50-a7cb-4f12-c415-1f6d43d02993"
      },
      "execution_count": null,
      "outputs": [
        {
          "output_type": "execute_result",
          "data": {
            "text/plain": [
              "             label\n",
              "0    powerade_lata\n",
              "1    powerade_lata\n",
              "2    powerade_lata\n",
              "3    powerade_lata\n",
              "4    powerade_lata\n",
              "..             ...\n",
              "331   sprite_600ml\n",
              "332   sprite_600ml\n",
              "333   sprite_600ml\n",
              "334   sprite_600ml\n",
              "335   sprite_600ml\n",
              "\n",
              "[336 rows x 1 columns]"
            ],
            "text/html": [
              "\n",
              "  <div id=\"df-8d50f991-d97d-4322-92ee-cf3f9df303b8\">\n",
              "    <div class=\"colab-df-container\">\n",
              "      <div>\n",
              "<style scoped>\n",
              "    .dataframe tbody tr th:only-of-type {\n",
              "        vertical-align: middle;\n",
              "    }\n",
              "\n",
              "    .dataframe tbody tr th {\n",
              "        vertical-align: top;\n",
              "    }\n",
              "\n",
              "    .dataframe thead th {\n",
              "        text-align: right;\n",
              "    }\n",
              "</style>\n",
              "<table border=\"1\" class=\"dataframe\">\n",
              "  <thead>\n",
              "    <tr style=\"text-align: right;\">\n",
              "      <th></th>\n",
              "      <th>label</th>\n",
              "    </tr>\n",
              "  </thead>\n",
              "  <tbody>\n",
              "    <tr>\n",
              "      <th>0</th>\n",
              "      <td>powerade_lata</td>\n",
              "    </tr>\n",
              "    <tr>\n",
              "      <th>1</th>\n",
              "      <td>powerade_lata</td>\n",
              "    </tr>\n",
              "    <tr>\n",
              "      <th>2</th>\n",
              "      <td>powerade_lata</td>\n",
              "    </tr>\n",
              "    <tr>\n",
              "      <th>3</th>\n",
              "      <td>powerade_lata</td>\n",
              "    </tr>\n",
              "    <tr>\n",
              "      <th>4</th>\n",
              "      <td>powerade_lata</td>\n",
              "    </tr>\n",
              "    <tr>\n",
              "      <th>...</th>\n",
              "      <td>...</td>\n",
              "    </tr>\n",
              "    <tr>\n",
              "      <th>331</th>\n",
              "      <td>sprite_600ml</td>\n",
              "    </tr>\n",
              "    <tr>\n",
              "      <th>332</th>\n",
              "      <td>sprite_600ml</td>\n",
              "    </tr>\n",
              "    <tr>\n",
              "      <th>333</th>\n",
              "      <td>sprite_600ml</td>\n",
              "    </tr>\n",
              "    <tr>\n",
              "      <th>334</th>\n",
              "      <td>sprite_600ml</td>\n",
              "    </tr>\n",
              "    <tr>\n",
              "      <th>335</th>\n",
              "      <td>sprite_600ml</td>\n",
              "    </tr>\n",
              "  </tbody>\n",
              "</table>\n",
              "<p>336 rows × 1 columns</p>\n",
              "</div>\n",
              "      <button class=\"colab-df-convert\" onclick=\"convertToInteractive('df-8d50f991-d97d-4322-92ee-cf3f9df303b8')\"\n",
              "              title=\"Convert this dataframe to an interactive table.\"\n",
              "              style=\"display:none;\">\n",
              "        \n",
              "  <svg xmlns=\"http://www.w3.org/2000/svg\" height=\"24px\"viewBox=\"0 0 24 24\"\n",
              "       width=\"24px\">\n",
              "    <path d=\"M0 0h24v24H0V0z\" fill=\"none\"/>\n",
              "    <path d=\"M18.56 5.44l.94 2.06.94-2.06 2.06-.94-2.06-.94-.94-2.06-.94 2.06-2.06.94zm-11 1L8.5 8.5l.94-2.06 2.06-.94-2.06-.94L8.5 2.5l-.94 2.06-2.06.94zm10 10l.94 2.06.94-2.06 2.06-.94-2.06-.94-.94-2.06-.94 2.06-2.06.94z\"/><path d=\"M17.41 7.96l-1.37-1.37c-.4-.4-.92-.59-1.43-.59-.52 0-1.04.2-1.43.59L10.3 9.45l-7.72 7.72c-.78.78-.78 2.05 0 2.83L4 21.41c.39.39.9.59 1.41.59.51 0 1.02-.2 1.41-.59l7.78-7.78 2.81-2.81c.8-.78.8-2.07 0-2.86zM5.41 20L4 18.59l7.72-7.72 1.47 1.35L5.41 20z\"/>\n",
              "  </svg>\n",
              "      </button>\n",
              "      \n",
              "  <style>\n",
              "    .colab-df-container {\n",
              "      display:flex;\n",
              "      flex-wrap:wrap;\n",
              "      gap: 12px;\n",
              "    }\n",
              "\n",
              "    .colab-df-convert {\n",
              "      background-color: #E8F0FE;\n",
              "      border: none;\n",
              "      border-radius: 50%;\n",
              "      cursor: pointer;\n",
              "      display: none;\n",
              "      fill: #1967D2;\n",
              "      height: 32px;\n",
              "      padding: 0 0 0 0;\n",
              "      width: 32px;\n",
              "    }\n",
              "\n",
              "    .colab-df-convert:hover {\n",
              "      background-color: #E2EBFA;\n",
              "      box-shadow: 0px 1px 2px rgba(60, 64, 67, 0.3), 0px 1px 3px 1px rgba(60, 64, 67, 0.15);\n",
              "      fill: #174EA6;\n",
              "    }\n",
              "\n",
              "    [theme=dark] .colab-df-convert {\n",
              "      background-color: #3B4455;\n",
              "      fill: #D2E3FC;\n",
              "    }\n",
              "\n",
              "    [theme=dark] .colab-df-convert:hover {\n",
              "      background-color: #434B5C;\n",
              "      box-shadow: 0px 1px 3px 1px rgba(0, 0, 0, 0.15);\n",
              "      filter: drop-shadow(0px 1px 2px rgba(0, 0, 0, 0.3));\n",
              "      fill: #FFFFFF;\n",
              "    }\n",
              "  </style>\n",
              "\n",
              "      <script>\n",
              "        const buttonEl =\n",
              "          document.querySelector('#df-8d50f991-d97d-4322-92ee-cf3f9df303b8 button.colab-df-convert');\n",
              "        buttonEl.style.display =\n",
              "          google.colab.kernel.accessAllowed ? 'block' : 'none';\n",
              "\n",
              "        async function convertToInteractive(key) {\n",
              "          const element = document.querySelector('#df-8d50f991-d97d-4322-92ee-cf3f9df303b8');\n",
              "          const dataTable =\n",
              "            await google.colab.kernel.invokeFunction('convertToInteractive',\n",
              "                                                     [key], {});\n",
              "          if (!dataTable) return;\n",
              "\n",
              "          const docLinkHtml = 'Like what you see? Visit the ' +\n",
              "            '<a target=\"_blank\" href=https://colab.research.google.com/notebooks/data_table.ipynb>data table notebook</a>'\n",
              "            + ' to learn more about interactive tables.';\n",
              "          element.innerHTML = '';\n",
              "          dataTable['output_type'] = 'display_data';\n",
              "          await google.colab.output.renderOutput(dataTable, element);\n",
              "          const docLink = document.createElement('div');\n",
              "          docLink.innerHTML = docLinkHtml;\n",
              "          element.appendChild(docLink);\n",
              "        }\n",
              "      </script>\n",
              "    </div>\n",
              "  </div>\n",
              "  "
            ]
          },
          "metadata": {},
          "execution_count": 9
        }
      ]
    },
    {
      "cell_type": "markdown",
      "source": [
        "# Preparando el K-Fold."
      ],
      "metadata": {
        "id": "hsYuAao5b2zc"
      }
    },
    {
      "cell_type": "markdown",
      "source": [
        "Se crea un Stratified KFold de 10 folds para maximizar las probabilidades de que toque al menos un elemento de cada clase."
      ],
      "metadata": {
        "id": "lZwZVeeNcS18"
      }
    },
    {
      "cell_type": "code",
      "source": [
        "k_fold = StratifiedKFold(n_splits=10, random_state=69, shuffle=True)"
      ],
      "metadata": {
        "id": "sd6vsG_7X1vK"
      },
      "execution_count": null,
      "outputs": []
    },
    {
      "cell_type": "markdown",
      "source": [
        "Se genera la variable n que contiene el total de imágenes que se ocuparán."
      ],
      "metadata": {
        "id": "O30HOoWHcbcO"
      }
    },
    {
      "cell_type": "code",
      "source": [
        "n  = data.count()['filename']"
      ],
      "metadata": {
        "id": "UVwxVfj4gIAw"
      },
      "execution_count": null,
      "outputs": []
    },
    {
      "cell_type": "markdown",
      "source": [
        "Ahora, se crea un directorio llamado validation el cual almacenará todos los datos de validación, debido a que necesita tener la misma estructura que el directorio de pruebas se entrará a este mismo folder y se iterará para crear cada uno de los folders que representan a cada clase."
      ],
      "metadata": {
        "id": "BW_DsldJcsgj"
      }
    },
    {
      "cell_type": "code",
      "source": [
        "os.mkdir('validation')"
      ],
      "metadata": {
        "id": "ffIenn0WhwJZ"
      },
      "execution_count": null,
      "outputs": []
    },
    {
      "cell_type": "code",
      "source": [
        "%cd validation"
      ],
      "metadata": {
        "colab": {
          "base_uri": "https://localhost:8080/"
        },
        "id": "jzxWssOPiIY5",
        "outputId": "9fad19b7-4d7a-48c0-f2ac-8474c29cf4f7"
      },
      "execution_count": null,
      "outputs": [
        {
          "output_type": "stream",
          "name": "stdout",
          "text": [
            "/content/drive/.shortcut-targets-by-id/1-jD7WLMdUgZYVERC_Q9SBlSQEm5HyziM/Sprite_refri/validation\n"
          ]
        }
      ]
    },
    {
      "cell_type": "code",
      "source": [
        "for folder in main_directory:\n",
        "  os.mkdir(folder)"
      ],
      "metadata": {
        "id": "R1nUbMZ_iKJx"
      },
      "execution_count": null,
      "outputs": []
    },
    {
      "cell_type": "markdown",
      "source": [
        "Finalmente volvemos a colocarnos en el directorio raíz."
      ],
      "metadata": {
        "id": "J3Bobbvyc-cm"
      }
    },
    {
      "cell_type": "code",
      "source": [
        "%cd .."
      ],
      "metadata": {
        "colab": {
          "base_uri": "https://localhost:8080/"
        },
        "id": "DLmozEI2ip7C",
        "outputId": "14622f71-7f54-4e34-b698-107f61e4cc89"
      },
      "execution_count": null,
      "outputs": [
        {
          "output_type": "stream",
          "name": "stdout",
          "text": [
            "/content/drive/.shortcut-targets-by-id/1-jD7WLMdUgZYVERC_Q9SBlSQEm5HyziM/Sprite_refri\n"
          ]
        }
      ]
    },
    {
      "cell_type": "code",
      "source": [
        "!pwd"
      ],
      "metadata": {
        "colab": {
          "base_uri": "https://localhost:8080/"
        },
        "id": "EfFmEYb60dn1",
        "outputId": "d0729fdf-7fcf-47c7-8b08-97bc9033944b"
      },
      "execution_count": null,
      "outputs": [
        {
          "output_type": "stream",
          "name": "stdout",
          "text": [
            "/content/drive/.shortcut-targets-by-id/1-jD7WLMdUgZYVERC_Q9SBlSQEm5HyziM/Sprite_refri\n"
          ]
        }
      ]
    },
    {
      "cell_type": "markdown",
      "source": [
        "# Visualización de las clases."
      ],
      "metadata": {
        "id": "GuQRzW6WdDiK"
      }
    },
    {
      "cell_type": "markdown",
      "source": [
        "Se genera un dataset temporal únicamente para visualizar todas as clases disponibles."
      ],
      "metadata": {
        "id": "tsDoN3SkdYa9"
      }
    },
    {
      "cell_type": "code",
      "source": [
        "train_ds = tf.keras.utils.image_dataset_from_directory(\n",
        "  'train',\n",
        "  validation_split=0.2,\n",
        "  subset=\"training\",\n",
        "  seed=123,\n",
        "  image_size=(img_height, img_width),\n",
        "  batch_size=batch_size)\n",
        "\n",
        "train_ds.class_names"
      ],
      "metadata": {
        "colab": {
          "base_uri": "https://localhost:8080/"
        },
        "id": "prN2FqnlKsHI",
        "outputId": "047e1bc8-37e8-4864-97f7-234073b8f6bd"
      },
      "execution_count": null,
      "outputs": [
        {
          "output_type": "stream",
          "name": "stdout",
          "text": [
            "Found 336 files belonging to 21 classes.\n",
            "Using 269 files for training.\n"
          ]
        },
        {
          "output_type": "execute_result",
          "data": {
            "text/plain": [
              "['Coca 600ml',\n",
              " 'Del valle mango',\n",
              " 'Del valle manzana',\n",
              " 'Fresca',\n",
              " 'Fuze tea durazno',\n",
              " 'Manzanita',\n",
              " 'Powerade rojo',\n",
              " 'Sprite lata',\n",
              " 'ciel_600ml',\n",
              " 'ciel_mineral_600ml',\n",
              " 'coca_cola_lata',\n",
              " 'coca_cola_light_600ml',\n",
              " 'fanta_600ml',\n",
              " 'fanta_lata',\n",
              " 'fuze_tea_limon_blanco_600ml',\n",
              " 'limon_y_nada_600ml',\n",
              " 'naranja_y_nada_600ml',\n",
              " 'powerade_azul_600ml',\n",
              " 'powerade_lata',\n",
              " 'santa_clara_250ml',\n",
              " 'sprite_600ml']"
            ]
          },
          "metadata": {},
          "execution_count": 17
        }
      ]
    },
    {
      "cell_type": "markdown",
      "source": [
        "# Entrenamiento del primer modelo."
      ],
      "metadata": {
        "id": "eQ6M-0jGddyK"
      }
    },
    {
      "cell_type": "markdown",
      "source": [
        "Ahora se procede a entrenar el modelo usando los 10 folds."
      ],
      "metadata": {
        "id": "aGB90Ad7dis6"
      }
    },
    {
      "cell_type": "code",
      "source": [
        "#Se entrenará el modelo 20 épocas en cada fold\n",
        "epochs=20\n",
        "\n",
        "for i, (train_index, val_index) in enumerate(k_fold.split(np.zeros(n), Y)):\n",
        "  #Se obtienen los índices de los datos que se usarán para entenar y validar\n",
        "  train_data = data.iloc[train_index]\n",
        "  val_data = data.iloc[val_index]\n",
        "\n",
        "  new_paths = []\n",
        "\n",
        "  for val_file in val_data[['filename']].values:\n",
        "    #Se itera sobre los datos de validación y se les asignan nuevos paths para moverlos a la carpeta de validación\n",
        "    new_path = os.getcwd() + '/validation/' + val_file[0].split('/')[-2]\n",
        "    shutil.move(val_file[0], new_path)\n",
        "    new_paths.append(new_path + '/' + val_file[0].split('/')[-1])\n",
        "  \n",
        "  #Se crean ambos datasets usando sus carpetas correspondientes\n",
        "  train_dataset = tf.keras.utils.image_dataset_from_directory(\n",
        "      train_data_dir,\n",
        "      seed=123,\n",
        "      image_size=(img_height, img_width),\n",
        "      batch_size=batch_size\n",
        "      )\n",
        "  val_dataset = tf.keras.utils.image_dataset_from_directory(\n",
        "      val_data_dir,\n",
        "      seed=123,\n",
        "      image_size=(img_height, img_width),\n",
        "      batch_size=batch_size\n",
        "      )\n",
        "  \n",
        "  #Se optimizan los datasets para acelerar el entrenamiento\n",
        "  train_dataset = train_dataset.cache().shuffle(1000).prefetch(buffer_size=AUTOTUNE)\n",
        "  val_dataset = val_dataset.cache().prefetch(buffer_size=AUTOTUNE)\n",
        "  \n",
        "  #Se vuelve a definir el modelo para que sea entrenado siempre desde 0\n",
        "  model = Sequential([\n",
        "    data_augmentation,\n",
        "    layers.Rescaling(1./255),\n",
        "    layers.Conv2D(16, 3, padding='same', activation='relu'),\n",
        "    layers.MaxPooling2D(),\n",
        "    layers.Conv2D(32, 3, padding='same', activation='relu'),\n",
        "    layers.MaxPooling2D(),\n",
        "    layers.Conv2D(64, 3, padding='same', activation='relu'),\n",
        "    layers.MaxPooling2D(),\n",
        "    layers.Dropout(0.2),\n",
        "    layers.Flatten(),\n",
        "    layers.Dense(128, activation='relu'),\n",
        "    layers.Dense(CLASSES)\n",
        "  ])\n",
        "\n",
        "  #Se compila usando Adam, sparse categorical crossentropy y se recopila su accuracy\n",
        "  model.compile(optimizer='adam',\n",
        "              loss=tf.keras.losses.SparseCategoricalCrossentropy(from_logits=True),\n",
        "              metrics=['accuracy'])\n",
        "  \n",
        "  #Se crea un early stopping para evitar que se entrene de más innecesariamente\n",
        "  callback = tf.keras.callbacks.EarlyStopping(monitor='accuracy', patience=3, verbose=10, restore_best_weights=True)\n",
        "  \n",
        "  #Se entrena el modelo\n",
        "  history = model.fit(\n",
        "    train_dataset, \n",
        "    validation_data=val_dataset, \n",
        "    batch_size=batch_size, \n",
        "    epochs=epochs, \n",
        "    callbacks=[callback])\n",
        "  \n",
        "  #Se obtiene el accuracy del modelo entrenado\n",
        "  score = model.evaluate(val_dataset)[1]\n",
        "  VAL_ACCURACY.append(score)\n",
        "\n",
        "  MODELS.append(model)\n",
        "  EPOCHS.append(history.epoch[-1])\n",
        "\n",
        "  print(f'Fold {i + 1} accuracy: {score}')\n",
        "\n",
        "  for val_file in new_paths:\n",
        "    #Se regresan las imágenes a sus folders originales\n",
        "    new_path = os.getcwd() + '/train/' + val_file.split('/')[-2]\n",
        "    shutil.move(val_file, new_path)\n",
        "\n",
        "print(f'The model has an overall accuracy of {np.average(VAL_ACCURACY)} +/- {np.std(VAL_ACCURACY)}')"
      ],
      "metadata": {
        "colab": {
          "base_uri": "https://localhost:8080/"
        },
        "id": "ISg7zzTraV_3",
        "outputId": "dcf8c228-9408-4cbd-9072-b032dd553afd"
      },
      "execution_count": null,
      "outputs": [
        {
          "output_type": "stream",
          "name": "stderr",
          "text": [
            "/usr/local/lib/python3.8/dist-packages/sklearn/model_selection/_split.py:676: UserWarning: The least populated class in y has only 7 members, which is less than n_splits=10.\n",
            "  warnings.warn(\n"
          ]
        },
        {
          "output_type": "stream",
          "name": "stdout",
          "text": [
            "Found 302 files belonging to 21 classes.\n",
            "Found 34 files belonging to 21 classes.\n",
            "Epoch 1/20\n",
            "10/10 [==============================] - 99s 1s/step - loss: 3.5453 - accuracy: 0.1523 - val_loss: 2.8362 - val_accuracy: 0.1765\n",
            "Epoch 2/20\n",
            "10/10 [==============================] - 1s 59ms/step - loss: 2.4945 - accuracy: 0.2715 - val_loss: 1.9593 - val_accuracy: 0.4412\n",
            "Epoch 3/20\n",
            "10/10 [==============================] - 1s 54ms/step - loss: 1.7979 - accuracy: 0.4801 - val_loss: 1.2111 - val_accuracy: 0.5588\n",
            "Epoch 4/20\n",
            "10/10 [==============================] - 1s 57ms/step - loss: 0.8859 - accuracy: 0.7616 - val_loss: 0.6644 - val_accuracy: 0.8235\n",
            "Epoch 5/20\n",
            "10/10 [==============================] - 1s 53ms/step - loss: 0.5302 - accuracy: 0.8146 - val_loss: 0.4068 - val_accuracy: 0.8529\n",
            "Epoch 6/20\n",
            "10/10 [==============================] - 1s 54ms/step - loss: 0.2680 - accuracy: 0.9205 - val_loss: 0.1765 - val_accuracy: 0.9412\n",
            "Epoch 7/20\n",
            "10/10 [==============================] - 1s 57ms/step - loss: 0.1798 - accuracy: 0.9404 - val_loss: 0.2533 - val_accuracy: 0.8824\n",
            "Epoch 8/20\n",
            "10/10 [==============================] - 1s 54ms/step - loss: 0.1348 - accuracy: 0.9636 - val_loss: 0.0872 - val_accuracy: 0.9706\n",
            "Epoch 9/20\n",
            "10/10 [==============================] - 1s 52ms/step - loss: 0.0690 - accuracy: 0.9768 - val_loss: 0.1107 - val_accuracy: 0.9412\n",
            "Epoch 10/20\n",
            "10/10 [==============================] - 1s 54ms/step - loss: 0.0821 - accuracy: 0.9768 - val_loss: 0.1186 - val_accuracy: 0.9412\n",
            "Epoch 11/20\n",
            "10/10 [==============================] - 1s 54ms/step - loss: 0.0891 - accuracy: 0.9669 - val_loss: 0.3198 - val_accuracy: 0.9118\n",
            "Epoch 12/20\n",
            "10/10 [==============================] - ETA: 0s - loss: 0.0932 - accuracy: 0.9735Restoring model weights from the end of the best epoch: 9.\n",
            "10/10 [==============================] - 1s 57ms/step - loss: 0.0932 - accuracy: 0.9735 - val_loss: 0.3573 - val_accuracy: 0.9412\n",
            "Epoch 12: early stopping\n",
            "2/2 [==============================] - 0s 7ms/step - loss: 0.1107 - accuracy: 0.9412\n",
            "Fold 1 accuracy: 0.9411764740943909\n",
            "Found 302 files belonging to 21 classes.\n",
            "Found 34 files belonging to 21 classes.\n",
            "Epoch 1/20\n",
            "10/10 [==============================] - 5s 120ms/step - loss: 2.7892 - accuracy: 0.1291 - val_loss: 2.0629 - val_accuracy: 0.2353\n",
            "Epoch 2/20\n",
            "10/10 [==============================] - 1s 59ms/step - loss: 1.5987 - accuracy: 0.5728 - val_loss: 0.8780 - val_accuracy: 0.7941\n",
            "Epoch 3/20\n",
            "10/10 [==============================] - 1s 54ms/step - loss: 0.7019 - accuracy: 0.8278 - val_loss: 0.3315 - val_accuracy: 0.8529\n",
            "Epoch 4/20\n",
            "10/10 [==============================] - 1s 53ms/step - loss: 0.3392 - accuracy: 0.8940 - val_loss: 0.1771 - val_accuracy: 0.9412\n",
            "Epoch 5/20\n",
            "10/10 [==============================] - 1s 55ms/step - loss: 0.2163 - accuracy: 0.9205 - val_loss: 0.1431 - val_accuracy: 0.9412\n",
            "Epoch 6/20\n",
            "10/10 [==============================] - 1s 58ms/step - loss: 0.2406 - accuracy: 0.9503 - val_loss: 0.0409 - val_accuracy: 1.0000\n",
            "Epoch 7/20\n",
            "10/10 [==============================] - 1s 54ms/step - loss: 0.1933 - accuracy: 0.9437 - val_loss: 0.0356 - val_accuracy: 1.0000\n",
            "Epoch 8/20\n",
            "10/10 [==============================] - 1s 54ms/step - loss: 0.0930 - accuracy: 0.9834 - val_loss: 0.0172 - val_accuracy: 1.0000\n",
            "Epoch 9/20\n",
            "10/10 [==============================] - 1s 56ms/step - loss: 0.0521 - accuracy: 0.9868 - val_loss: 0.0301 - val_accuracy: 1.0000\n",
            "Epoch 10/20\n",
            "10/10 [==============================] - 1s 56ms/step - loss: 0.0280 - accuracy: 1.0000 - val_loss: 0.0065 - val_accuracy: 1.0000\n",
            "Epoch 11/20\n",
            "10/10 [==============================] - 1s 52ms/step - loss: 0.0138 - accuracy: 0.9967 - val_loss: 0.0247 - val_accuracy: 1.0000\n",
            "Epoch 12/20\n",
            "10/10 [==============================] - 1s 62ms/step - loss: 0.0336 - accuracy: 0.9901 - val_loss: 0.0093 - val_accuracy: 1.0000\n",
            "Epoch 13/20\n",
            "10/10 [==============================] - ETA: 0s - loss: 0.0420 - accuracy: 0.9868Restoring model weights from the end of the best epoch: 10.\n",
            "10/10 [==============================] - 1s 79ms/step - loss: 0.0420 - accuracy: 0.9868 - val_loss: 0.0653 - val_accuracy: 0.9706\n",
            "Epoch 13: early stopping\n",
            "2/2 [==============================] - 0s 11ms/step - loss: 0.0065 - accuracy: 1.0000\n",
            "Fold 2 accuracy: 1.0\n",
            "Found 302 files belonging to 21 classes.\n",
            "Found 34 files belonging to 21 classes.\n",
            "Epoch 1/20\n",
            "10/10 [==============================] - 8s 127ms/step - loss: 3.2418 - accuracy: 0.0762 - val_loss: 2.8302 - val_accuracy: 0.0882\n",
            "Epoch 2/20\n",
            "10/10 [==============================] - 1s 65ms/step - loss: 2.5818 - accuracy: 0.2285 - val_loss: 2.2328 - val_accuracy: 0.4412\n",
            "Epoch 3/20\n",
            "10/10 [==============================] - 1s 56ms/step - loss: 1.8524 - accuracy: 0.5000 - val_loss: 1.2155 - val_accuracy: 0.6765\n",
            "Epoch 4/20\n",
            "10/10 [==============================] - 1s 53ms/step - loss: 1.0656 - accuracy: 0.7119 - val_loss: 0.9014 - val_accuracy: 0.8235\n",
            "Epoch 5/20\n",
            "10/10 [==============================] - 1s 52ms/step - loss: 0.7151 - accuracy: 0.8079 - val_loss: 0.4143 - val_accuracy: 0.8824\n",
            "Epoch 6/20\n",
            "10/10 [==============================] - 1s 54ms/step - loss: 0.3557 - accuracy: 0.9139 - val_loss: 0.4019 - val_accuracy: 0.8824\n",
            "Epoch 7/20\n",
            "10/10 [==============================] - 1s 54ms/step - loss: 0.3356 - accuracy: 0.9305 - val_loss: 0.2489 - val_accuracy: 0.8824\n",
            "Epoch 8/20\n",
            "10/10 [==============================] - 1s 55ms/step - loss: 0.2461 - accuracy: 0.9205 - val_loss: 0.1388 - val_accuracy: 0.9412\n",
            "Epoch 9/20\n",
            "10/10 [==============================] - 1s 55ms/step - loss: 0.1393 - accuracy: 0.9603 - val_loss: 0.1725 - val_accuracy: 0.9412\n",
            "Epoch 10/20\n",
            "10/10 [==============================] - 1s 52ms/step - loss: 0.1481 - accuracy: 0.9603 - val_loss: 0.0635 - val_accuracy: 1.0000\n",
            "Epoch 11/20\n",
            "10/10 [==============================] - 1s 54ms/step - loss: 0.0614 - accuracy: 0.9834 - val_loss: 0.1039 - val_accuracy: 0.9706\n",
            "Epoch 12/20\n",
            "10/10 [==============================] - 1s 54ms/step - loss: 0.0602 - accuracy: 0.9834 - val_loss: 0.0450 - val_accuracy: 0.9706\n",
            "Epoch 13/20\n",
            "10/10 [==============================] - 1s 59ms/step - loss: 0.0695 - accuracy: 0.9868 - val_loss: 0.0289 - val_accuracy: 1.0000\n",
            "Epoch 14/20\n",
            "10/10 [==============================] - 1s 53ms/step - loss: 0.0913 - accuracy: 0.9834 - val_loss: 0.0812 - val_accuracy: 0.9706\n",
            "Epoch 15/20\n",
            "10/10 [==============================] - 1s 56ms/step - loss: 0.0305 - accuracy: 1.0000 - val_loss: 0.0282 - val_accuracy: 1.0000\n",
            "Epoch 16/20\n",
            "10/10 [==============================] - 1s 52ms/step - loss: 0.0243 - accuracy: 0.9934 - val_loss: 0.0618 - val_accuracy: 0.9706\n",
            "Epoch 17/20\n",
            "10/10 [==============================] - 1s 52ms/step - loss: 0.0127 - accuracy: 1.0000 - val_loss: 0.0170 - val_accuracy: 1.0000\n",
            "Epoch 18/20\n",
            "10/10 [==============================] - ETA: 0s - loss: 0.0153 - accuracy: 0.9934Restoring model weights from the end of the best epoch: 15.\n",
            "10/10 [==============================] - 1s 55ms/step - loss: 0.0153 - accuracy: 0.9934 - val_loss: 0.0039 - val_accuracy: 1.0000\n",
            "Epoch 18: early stopping\n",
            "2/2 [==============================] - 0s 7ms/step - loss: 0.0282 - accuracy: 1.0000\n",
            "Fold 3 accuracy: 1.0\n",
            "Found 302 files belonging to 21 classes.\n",
            "Found 34 files belonging to 21 classes.\n",
            "Epoch 1/20\n",
            "10/10 [==============================] - 5s 125ms/step - loss: 3.5269 - accuracy: 0.1093 - val_loss: 2.9979 - val_accuracy: 0.1176\n",
            "Epoch 2/20\n",
            "10/10 [==============================] - 1s 54ms/step - loss: 2.8589 - accuracy: 0.1391 - val_loss: 2.6035 - val_accuracy: 0.2941\n",
            "Epoch 3/20\n",
            "10/10 [==============================] - 1s 56ms/step - loss: 2.2809 - accuracy: 0.2781 - val_loss: 1.8961 - val_accuracy: 0.5000\n",
            "Epoch 4/20\n",
            "10/10 [==============================] - 1s 60ms/step - loss: 1.3470 - accuracy: 0.6788 - val_loss: 0.9290 - val_accuracy: 0.7059\n",
            "Epoch 5/20\n",
            "10/10 [==============================] - 1s 57ms/step - loss: 0.7380 - accuracy: 0.7914 - val_loss: 0.5202 - val_accuracy: 0.8235\n",
            "Epoch 6/20\n",
            "10/10 [==============================] - 1s 55ms/step - loss: 0.4060 - accuracy: 0.8841 - val_loss: 0.5652 - val_accuracy: 0.8529\n",
            "Epoch 7/20\n",
            "10/10 [==============================] - 1s 57ms/step - loss: 0.2712 - accuracy: 0.9305 - val_loss: 0.3238 - val_accuracy: 0.9118\n",
            "Epoch 8/20\n",
            "10/10 [==============================] - 1s 53ms/step - loss: 0.2297 - accuracy: 0.9139 - val_loss: 0.1172 - val_accuracy: 0.9412\n",
            "Epoch 9/20\n",
            "10/10 [==============================] - 1s 55ms/step - loss: 0.1117 - accuracy: 0.9768 - val_loss: 0.0949 - val_accuracy: 0.9706\n",
            "Epoch 10/20\n",
            "10/10 [==============================] - 1s 53ms/step - loss: 0.0901 - accuracy: 0.9735 - val_loss: 0.0880 - val_accuracy: 0.9706\n",
            "Epoch 11/20\n",
            "10/10 [==============================] - 1s 55ms/step - loss: 0.0542 - accuracy: 0.9868 - val_loss: 0.0465 - val_accuracy: 1.0000\n",
            "Epoch 12/20\n",
            "10/10 [==============================] - 1s 57ms/step - loss: 0.0288 - accuracy: 0.9934 - val_loss: 0.0265 - val_accuracy: 1.0000\n",
            "Epoch 13/20\n",
            "10/10 [==============================] - 1s 54ms/step - loss: 0.0616 - accuracy: 0.9834 - val_loss: 0.0666 - val_accuracy: 0.9706\n",
            "Epoch 14/20\n",
            "10/10 [==============================] - 1s 52ms/step - loss: 0.0516 - accuracy: 0.9834 - val_loss: 0.0169 - val_accuracy: 1.0000\n",
            "Epoch 15/20\n",
            "10/10 [==============================] - ETA: 0s - loss: 0.0523 - accuracy: 0.9801Restoring model weights from the end of the best epoch: 12.\n",
            "10/10 [==============================] - 1s 55ms/step - loss: 0.0523 - accuracy: 0.9801 - val_loss: 0.0244 - val_accuracy: 1.0000\n",
            "Epoch 15: early stopping\n",
            "2/2 [==============================] - 0s 6ms/step - loss: 0.0265 - accuracy: 1.0000\n",
            "Fold 4 accuracy: 1.0\n",
            "Found 302 files belonging to 21 classes.\n",
            "Found 34 files belonging to 21 classes.\n",
            "Epoch 1/20\n",
            "10/10 [==============================] - 6s 127ms/step - loss: 3.7164 - accuracy: 0.0993 - val_loss: 2.8070 - val_accuracy: 0.1176\n",
            "Epoch 2/20\n",
            "10/10 [==============================] - 1s 58ms/step - loss: 2.6017 - accuracy: 0.1523 - val_loss: 2.2049 - val_accuracy: 0.2647\n",
            "Epoch 3/20\n",
            "10/10 [==============================] - 1s 54ms/step - loss: 1.9073 - accuracy: 0.3808 - val_loss: 1.2443 - val_accuracy: 0.7353\n",
            "Epoch 4/20\n",
            "10/10 [==============================] - 1s 57ms/step - loss: 1.0010 - accuracy: 0.7450 - val_loss: 0.6902 - val_accuracy: 0.7647\n",
            "Epoch 5/20\n",
            "10/10 [==============================] - 1s 56ms/step - loss: 0.4963 - accuracy: 0.8642 - val_loss: 0.4945 - val_accuracy: 0.8235\n",
            "Epoch 6/20\n",
            "10/10 [==============================] - 1s 55ms/step - loss: 0.3404 - accuracy: 0.8841 - val_loss: 0.2863 - val_accuracy: 0.8824\n",
            "Epoch 7/20\n",
            "10/10 [==============================] - 1s 55ms/step - loss: 0.2133 - accuracy: 0.9371 - val_loss: 0.3220 - val_accuracy: 0.9118\n",
            "Epoch 8/20\n",
            "10/10 [==============================] - 1s 56ms/step - loss: 0.1783 - accuracy: 0.9437 - val_loss: 0.2438 - val_accuracy: 0.9412\n",
            "Epoch 9/20\n",
            "10/10 [==============================] - 1s 57ms/step - loss: 0.1384 - accuracy: 0.9503 - val_loss: 0.1587 - val_accuracy: 0.9412\n",
            "Epoch 10/20\n",
            "10/10 [==============================] - 1s 55ms/step - loss: 0.1191 - accuracy: 0.9603 - val_loss: 0.3327 - val_accuracy: 0.9412\n",
            "Epoch 11/20\n",
            "10/10 [==============================] - 1s 55ms/step - loss: 0.0864 - accuracy: 0.9768 - val_loss: 0.0870 - val_accuracy: 0.9412\n",
            "Epoch 12/20\n",
            "10/10 [==============================] - 1s 57ms/step - loss: 0.0522 - accuracy: 0.9868 - val_loss: 0.2291 - val_accuracy: 0.9706\n",
            "Epoch 13/20\n",
            "10/10 [==============================] - 1s 54ms/step - loss: 0.0210 - accuracy: 0.9967 - val_loss: 0.0439 - val_accuracy: 0.9706\n",
            "Epoch 14/20\n",
            "10/10 [==============================] - 1s 55ms/step - loss: 0.0179 - accuracy: 1.0000 - val_loss: 0.0901 - val_accuracy: 0.9706\n",
            "Epoch 15/20\n",
            "10/10 [==============================] - 1s 56ms/step - loss: 0.0279 - accuracy: 0.9934 - val_loss: 0.0375 - val_accuracy: 0.9706\n",
            "Epoch 16/20\n",
            "10/10 [==============================] - 1s 56ms/step - loss: 0.0243 - accuracy: 0.9934 - val_loss: 0.1986 - val_accuracy: 0.9706\n",
            "Epoch 17/20\n",
            "10/10 [==============================] - ETA: 0s - loss: 0.0211 - accuracy: 0.9934Restoring model weights from the end of the best epoch: 14.\n",
            "10/10 [==============================] - 1s 56ms/step - loss: 0.0211 - accuracy: 0.9934 - val_loss: 0.1697 - val_accuracy: 0.9412\n",
            "Epoch 17: early stopping\n",
            "2/2 [==============================] - 0s 7ms/step - loss: 0.0901 - accuracy: 0.9706\n",
            "Fold 5 accuracy: 0.970588207244873\n",
            "Found 302 files belonging to 21 classes.\n",
            "Found 34 files belonging to 21 classes.\n",
            "Epoch 1/20\n",
            "10/10 [==============================] - 6s 130ms/step - loss: 3.4119 - accuracy: 0.1457 - val_loss: 2.6209 - val_accuracy: 0.2059\n",
            "Epoch 2/20\n",
            "10/10 [==============================] - 1s 58ms/step - loss: 2.3102 - accuracy: 0.3444 - val_loss: 1.8531 - val_accuracy: 0.4706\n",
            "Epoch 3/20\n",
            "10/10 [==============================] - 1s 56ms/step - loss: 1.4341 - accuracy: 0.6192 - val_loss: 1.0925 - val_accuracy: 0.7353\n",
            "Epoch 4/20\n",
            "10/10 [==============================] - 1s 56ms/step - loss: 0.8002 - accuracy: 0.7881 - val_loss: 0.4050 - val_accuracy: 0.9118\n",
            "Epoch 5/20\n",
            "10/10 [==============================] - 1s 56ms/step - loss: 0.5095 - accuracy: 0.8841 - val_loss: 0.1860 - val_accuracy: 0.9706\n",
            "Epoch 6/20\n",
            "10/10 [==============================] - 1s 59ms/step - loss: 0.2715 - accuracy: 0.9404 - val_loss: 0.3136 - val_accuracy: 0.8824\n",
            "Epoch 7/20\n",
            "10/10 [==============================] - 1s 56ms/step - loss: 0.1607 - accuracy: 0.9536 - val_loss: 0.0689 - val_accuracy: 0.9706\n",
            "Epoch 8/20\n",
            "10/10 [==============================] - 1s 58ms/step - loss: 0.0872 - accuracy: 0.9669 - val_loss: 0.0716 - val_accuracy: 0.9706\n",
            "Epoch 9/20\n",
            "10/10 [==============================] - 1s 54ms/step - loss: 0.1153 - accuracy: 0.9603 - val_loss: 0.2179 - val_accuracy: 0.9412\n",
            "Epoch 10/20\n",
            "10/10 [==============================] - 1s 56ms/step - loss: 0.0957 - accuracy: 0.9768 - val_loss: 0.0680 - val_accuracy: 0.9706\n",
            "Epoch 11/20\n",
            "10/10 [==============================] - 1s 55ms/step - loss: 0.0515 - accuracy: 0.9901 - val_loss: 0.0966 - val_accuracy: 0.9706\n",
            "Epoch 12/20\n",
            "10/10 [==============================] - 1s 52ms/step - loss: 0.0444 - accuracy: 0.9868 - val_loss: 0.0536 - val_accuracy: 0.9706\n",
            "Epoch 13/20\n",
            "10/10 [==============================] - 1s 54ms/step - loss: 0.0204 - accuracy: 0.9967 - val_loss: 0.1109 - val_accuracy: 0.9706\n",
            "Epoch 14/20\n",
            "10/10 [==============================] - 1s 54ms/step - loss: 0.0269 - accuracy: 0.9901 - val_loss: 0.2176 - val_accuracy: 0.9706\n",
            "Epoch 15/20\n",
            "10/10 [==============================] - 1s 58ms/step - loss: 0.0566 - accuracy: 0.9801 - val_loss: 0.0172 - val_accuracy: 1.0000\n",
            "Epoch 16/20\n",
            "10/10 [==============================] - ETA: 0s - loss: 0.0486 - accuracy: 0.9868Restoring model weights from the end of the best epoch: 13.\n",
            "10/10 [==============================] - 1s 55ms/step - loss: 0.0486 - accuracy: 0.9868 - val_loss: 0.0948 - val_accuracy: 0.9706\n",
            "Epoch 16: early stopping\n",
            "2/2 [==============================] - 0s 7ms/step - loss: 0.1109 - accuracy: 0.9706\n",
            "Fold 6 accuracy: 0.970588207244873\n",
            "Found 303 files belonging to 21 classes.\n",
            "Found 33 files belonging to 21 classes.\n",
            "Epoch 1/20\n",
            "10/10 [==============================] - 6s 149ms/step - loss: 3.2596 - accuracy: 0.0924 - val_loss: 2.6959 - val_accuracy: 0.2727\n",
            "Epoch 2/20\n",
            "10/10 [==============================] - 1s 56ms/step - loss: 2.3673 - accuracy: 0.2904 - val_loss: 1.7660 - val_accuracy: 0.4848\n",
            "Epoch 3/20\n",
            "10/10 [==============================] - 1s 57ms/step - loss: 1.3694 - accuracy: 0.6073 - val_loss: 0.8340 - val_accuracy: 0.8182\n",
            "Epoch 4/20\n",
            "10/10 [==============================] - 1s 56ms/step - loss: 0.6496 - accuracy: 0.7954 - val_loss: 0.6197 - val_accuracy: 0.7879\n",
            "Epoch 5/20\n",
            "10/10 [==============================] - 1s 57ms/step - loss: 0.3463 - accuracy: 0.8845 - val_loss: 0.4492 - val_accuracy: 0.9091\n",
            "Epoch 6/20\n",
            "10/10 [==============================] - 1s 59ms/step - loss: 0.2917 - accuracy: 0.9043 - val_loss: 0.5518 - val_accuracy: 0.9394\n",
            "Epoch 7/20\n",
            "10/10 [==============================] - 1s 57ms/step - loss: 0.2996 - accuracy: 0.9175 - val_loss: 0.2715 - val_accuracy: 0.9394\n",
            "Epoch 8/20\n",
            "10/10 [==============================] - 1s 54ms/step - loss: 0.2791 - accuracy: 0.9010 - val_loss: 0.0912 - val_accuracy: 0.9697\n",
            "Epoch 9/20\n",
            "10/10 [==============================] - 1s 56ms/step - loss: 0.1779 - accuracy: 0.9571 - val_loss: 0.1170 - val_accuracy: 0.9697\n",
            "Epoch 10/20\n",
            "10/10 [==============================] - 1s 54ms/step - loss: 0.1283 - accuracy: 0.9637 - val_loss: 0.0784 - val_accuracy: 0.9697\n",
            "Epoch 11/20\n",
            "10/10 [==============================] - 1s 61ms/step - loss: 0.0569 - accuracy: 0.9901 - val_loss: 0.0388 - val_accuracy: 1.0000\n",
            "Epoch 12/20\n",
            "10/10 [==============================] - 1s 58ms/step - loss: 0.0312 - accuracy: 0.9967 - val_loss: 0.0427 - val_accuracy: 0.9697\n",
            "Epoch 13/20\n",
            "10/10 [==============================] - 1s 54ms/step - loss: 0.0217 - accuracy: 0.9934 - val_loss: 0.0126 - val_accuracy: 1.0000\n",
            "Epoch 14/20\n",
            "10/10 [==============================] - 1s 52ms/step - loss: 0.0372 - accuracy: 0.9901 - val_loss: 0.1427 - val_accuracy: 0.9394\n",
            "Epoch 15/20\n",
            "10/10 [==============================] - ETA: 0s - loss: 0.0258 - accuracy: 0.9967Restoring model weights from the end of the best epoch: 12.\n",
            "10/10 [==============================] - 1s 54ms/step - loss: 0.0258 - accuracy: 0.9967 - val_loss: 0.0273 - val_accuracy: 1.0000\n",
            "Epoch 15: early stopping\n",
            "2/2 [==============================] - 0s 7ms/step - loss: 0.0427 - accuracy: 0.9697\n",
            "Fold 7 accuracy: 0.9696969985961914\n",
            "Found 303 files belonging to 21 classes.\n",
            "Found 33 files belonging to 21 classes.\n",
            "Epoch 1/20\n",
            "10/10 [==============================] - 5s 127ms/step - loss: 2.9645 - accuracy: 0.1155 - val_loss: 2.5275 - val_accuracy: 0.1212\n",
            "Epoch 2/20\n",
            "10/10 [==============================] - 1s 56ms/step - loss: 2.1278 - accuracy: 0.3795 - val_loss: 1.4008 - val_accuracy: 0.5758\n",
            "Epoch 3/20\n",
            "10/10 [==============================] - 1s 58ms/step - loss: 0.9477 - accuracy: 0.7855 - val_loss: 0.4772 - val_accuracy: 0.8485\n",
            "Epoch 4/20\n",
            "10/10 [==============================] - 1s 58ms/step - loss: 0.4631 - accuracy: 0.8713 - val_loss: 0.3282 - val_accuracy: 0.8485\n",
            "Epoch 5/20\n",
            "10/10 [==============================] - 1s 59ms/step - loss: 0.3465 - accuracy: 0.9175 - val_loss: 0.1847 - val_accuracy: 0.8788\n",
            "Epoch 6/20\n",
            "10/10 [==============================] - 1s 55ms/step - loss: 0.3810 - accuracy: 0.9142 - val_loss: 0.0759 - val_accuracy: 1.0000\n",
            "Epoch 7/20\n",
            "10/10 [==============================] - 1s 56ms/step - loss: 0.2574 - accuracy: 0.9274 - val_loss: 0.1754 - val_accuracy: 0.9394\n",
            "Epoch 8/20\n",
            "10/10 [==============================] - 1s 56ms/step - loss: 0.1160 - accuracy: 0.9802 - val_loss: 0.1370 - val_accuracy: 0.9394\n",
            "Epoch 9/20\n",
            "10/10 [==============================] - 1s 58ms/step - loss: 0.0930 - accuracy: 0.9736 - val_loss: 0.2242 - val_accuracy: 0.8788\n",
            "Epoch 10/20\n",
            "10/10 [==============================] - 1s 53ms/step - loss: 0.0706 - accuracy: 0.9769 - val_loss: 0.0282 - val_accuracy: 1.0000\n",
            "Epoch 11/20\n",
            "10/10 [==============================] - 1s 57ms/step - loss: 0.0270 - accuracy: 1.0000 - val_loss: 0.0094 - val_accuracy: 1.0000\n",
            "Epoch 12/20\n",
            "10/10 [==============================] - 1s 57ms/step - loss: 0.0624 - accuracy: 0.9868 - val_loss: 0.0508 - val_accuracy: 0.9697\n",
            "Epoch 13/20\n",
            "10/10 [==============================] - 1s 54ms/step - loss: 0.0382 - accuracy: 0.9835 - val_loss: 0.0208 - val_accuracy: 1.0000\n",
            "Epoch 14/20\n",
            " 9/10 [==========================>...] - ETA: 0s - loss: 0.0641 - accuracy: 0.9826Restoring model weights from the end of the best epoch: 11.\n",
            "10/10 [==============================] - 1s 56ms/step - loss: 0.0610 - accuracy: 0.9835 - val_loss: 0.2859 - val_accuracy: 0.9091\n",
            "Epoch 14: early stopping\n",
            "2/2 [==============================] - 0s 7ms/step - loss: 0.0094 - accuracy: 1.0000\n",
            "Fold 8 accuracy: 1.0\n",
            "Found 303 files belonging to 21 classes.\n",
            "Found 33 files belonging to 21 classes.\n",
            "Epoch 1/20\n",
            "10/10 [==============================] - 5s 121ms/step - loss: 3.0729 - accuracy: 0.0990 - val_loss: 2.5412 - val_accuracy: 0.1818\n",
            "Epoch 2/20\n",
            "10/10 [==============================] - 1s 57ms/step - loss: 2.2305 - accuracy: 0.3432 - val_loss: 1.5477 - val_accuracy: 0.5455\n",
            "Epoch 3/20\n",
            "10/10 [==============================] - 1s 59ms/step - loss: 1.2825 - accuracy: 0.6271 - val_loss: 0.6769 - val_accuracy: 0.7273\n",
            "Epoch 4/20\n",
            "10/10 [==============================] - 1s 58ms/step - loss: 0.6698 - accuracy: 0.7756 - val_loss: 0.3870 - val_accuracy: 0.8485\n",
            "Epoch 5/20\n",
            "10/10 [==============================] - 1s 55ms/step - loss: 0.6779 - accuracy: 0.7921 - val_loss: 0.5937 - val_accuracy: 0.8182\n",
            "Epoch 6/20\n",
            "10/10 [==============================] - 1s 56ms/step - loss: 0.4630 - accuracy: 0.8812 - val_loss: 0.3120 - val_accuracy: 0.8788\n",
            "Epoch 7/20\n",
            "10/10 [==============================] - 1s 58ms/step - loss: 0.2045 - accuracy: 0.9472 - val_loss: 0.1560 - val_accuracy: 0.9697\n",
            "Epoch 8/20\n",
            "10/10 [==============================] - 1s 58ms/step - loss: 0.1048 - accuracy: 0.9703 - val_loss: 0.0773 - val_accuracy: 1.0000\n",
            "Epoch 9/20\n",
            "10/10 [==============================] - 1s 56ms/step - loss: 0.0650 - accuracy: 0.9769 - val_loss: 0.1267 - val_accuracy: 0.9394\n",
            "Epoch 10/20\n",
            "10/10 [==============================] - 1s 52ms/step - loss: 0.0809 - accuracy: 0.9703 - val_loss: 0.1265 - val_accuracy: 0.9697\n",
            "Epoch 11/20\n",
            "10/10 [==============================] - 1s 53ms/step - loss: 0.0662 - accuracy: 0.9769 - val_loss: 0.0782 - val_accuracy: 0.9697\n",
            "Epoch 12/20\n",
            "10/10 [==============================] - 1s 55ms/step - loss: 0.0281 - accuracy: 0.9934 - val_loss: 0.0339 - val_accuracy: 1.0000\n",
            "Epoch 13/20\n",
            "10/10 [==============================] - 1s 54ms/step - loss: 0.0332 - accuracy: 0.9901 - val_loss: 0.0182 - val_accuracy: 1.0000\n",
            "Epoch 14/20\n",
            "10/10 [==============================] - 1s 57ms/step - loss: 0.0189 - accuracy: 0.9967 - val_loss: 0.0511 - val_accuracy: 0.9697\n",
            "Epoch 15/20\n",
            "10/10 [==============================] - 1s 57ms/step - loss: 0.0160 - accuracy: 0.9934 - val_loss: 0.0069 - val_accuracy: 1.0000\n",
            "Epoch 16/20\n",
            "10/10 [==============================] - 1s 57ms/step - loss: 0.0230 - accuracy: 0.9868 - val_loss: 0.0091 - val_accuracy: 1.0000\n",
            "Epoch 17/20\n",
            "10/10 [==============================] - ETA: 0s - loss: 0.0215 - accuracy: 0.9934Restoring model weights from the end of the best epoch: 14.\n",
            "10/10 [==============================] - 1s 56ms/step - loss: 0.0215 - accuracy: 0.9934 - val_loss: 0.0297 - val_accuracy: 1.0000\n",
            "Epoch 17: early stopping\n",
            "2/2 [==============================] - 0s 10ms/step - loss: 0.0511 - accuracy: 0.9697\n",
            "Fold 9 accuracy: 0.9696969985961914\n",
            "Found 303 files belonging to 21 classes.\n",
            "Found 33 files belonging to 21 classes.\n",
            "Epoch 1/20\n",
            "10/10 [==============================] - 6s 126ms/step - loss: 3.2200 - accuracy: 0.1287 - val_loss: 2.7597 - val_accuracy: 0.1212\n",
            "Epoch 2/20\n",
            "10/10 [==============================] - 1s 58ms/step - loss: 2.4097 - accuracy: 0.3003 - val_loss: 1.8098 - val_accuracy: 0.5455\n",
            "Epoch 3/20\n",
            "10/10 [==============================] - 1s 59ms/step - loss: 1.2607 - accuracy: 0.6601 - val_loss: 1.0895 - val_accuracy: 0.6667\n",
            "Epoch 4/20\n",
            "10/10 [==============================] - 1s 61ms/step - loss: 0.6944 - accuracy: 0.8119 - val_loss: 0.5736 - val_accuracy: 0.7576\n",
            "Epoch 5/20\n",
            "10/10 [==============================] - 1s 58ms/step - loss: 0.5094 - accuracy: 0.8449 - val_loss: 0.6599 - val_accuracy: 0.8182\n",
            "Epoch 6/20\n",
            "10/10 [==============================] - 1s 58ms/step - loss: 0.2543 - accuracy: 0.9406 - val_loss: 0.3890 - val_accuracy: 0.8485\n",
            "Epoch 7/20\n",
            "10/10 [==============================] - 1s 56ms/step - loss: 0.2338 - accuracy: 0.9241 - val_loss: 0.3669 - val_accuracy: 0.9091\n",
            "Epoch 8/20\n",
            "10/10 [==============================] - 1s 60ms/step - loss: 0.1136 - accuracy: 0.9637 - val_loss: 0.1315 - val_accuracy: 0.9697\n",
            "Epoch 9/20\n",
            "10/10 [==============================] - 1s 57ms/step - loss: 0.0783 - accuracy: 0.9802 - val_loss: 0.1135 - val_accuracy: 0.9697\n",
            "Epoch 10/20\n",
            "10/10 [==============================] - 1s 58ms/step - loss: 0.0725 - accuracy: 0.9835 - val_loss: 0.2323 - val_accuracy: 0.9697\n",
            "Epoch 11/20\n",
            "10/10 [==============================] - 1s 56ms/step - loss: 0.0545 - accuracy: 0.9868 - val_loss: 0.2542 - val_accuracy: 0.9697\n",
            "Epoch 12/20\n",
            "10/10 [==============================] - 1s 56ms/step - loss: 0.0348 - accuracy: 0.9901 - val_loss: 0.2028 - val_accuracy: 0.9697\n",
            "Epoch 13/20\n",
            "10/10 [==============================] - 1s 58ms/step - loss: 0.0205 - accuracy: 0.9967 - val_loss: 0.0603 - val_accuracy: 0.9697\n",
            "Epoch 14/20\n",
            "10/10 [==============================] - 1s 56ms/step - loss: 0.0087 - accuracy: 1.0000 - val_loss: 0.1369 - val_accuracy: 0.9697\n",
            "Epoch 15/20\n",
            "10/10 [==============================] - 1s 55ms/step - loss: 0.0051 - accuracy: 1.0000 - val_loss: 0.1994 - val_accuracy: 0.9697\n",
            "Epoch 16/20\n",
            "10/10 [==============================] - 1s 54ms/step - loss: 0.0051 - accuracy: 1.0000 - val_loss: 0.2419 - val_accuracy: 0.9697\n",
            "Epoch 17/20\n",
            "10/10 [==============================] - ETA: 0s - loss: 0.0109 - accuracy: 0.9967Restoring model weights from the end of the best epoch: 14.\n",
            "10/10 [==============================] - 1s 55ms/step - loss: 0.0109 - accuracy: 0.9967 - val_loss: 0.2484 - val_accuracy: 0.9697\n",
            "Epoch 17: early stopping\n",
            "2/2 [==============================] - 0s 7ms/step - loss: 0.1369 - accuracy: 0.9697\n",
            "Fold 10 accuracy: 0.9696969985961914\n",
            "The model has an overall accuracy of 0.9791443884372711 +/- 0.018961974189921037\n"
          ]
        }
      ]
    },
    {
      "cell_type": "markdown",
      "source": [
        "Ahora se plotea la precisión de cada modelo de cada fold."
      ],
      "metadata": {
        "id": "cWmVlpL4eVeA"
      }
    },
    {
      "cell_type": "code",
      "source": [
        "import matplotlib.pyplot as plt\n",
        "\n",
        "plt.figure(figsize=(10, 10))\n",
        "plt.plot(range(1, 11), VAL_ACCURACY, 'b-o', label='Accuracy')\n",
        "plt.legend(loc='upper right')\n",
        "plt.title('Accuracy of the model over the K-Fold training')\n",
        "plt.xlabel('Fold')\n",
        "plt.ylabel('Accuracy')\n",
        "plt.show()"
      ],
      "metadata": {
        "colab": {
          "base_uri": "https://localhost:8080/",
          "height": 621
        },
        "id": "ah33Te8rPNl9",
        "outputId": "ed23b2f5-ab2b-4297-d943-af89b18258ca"
      },
      "execution_count": null,
      "outputs": [
        {
          "output_type": "display_data",
          "data": {
            "text/plain": [
              "<Figure size 720x720 with 1 Axes>"
            ],
            "image/png": "[encoded data removed]"
          },
          "metadata": {
            "needs_background": "light"
          }
        }
      ]
    },
    {
      "cell_type": "markdown",
      "source": [
        "También se plotean las épocas que le tomó a cada modelo converger."
      ],
      "metadata": {
        "id": "tAmqWB59eaxg"
      }
    },
    {
      "cell_type": "code",
      "source": [
        "plt.figure(figsize=(10, 10))\n",
        "plt.plot(range(1, 11), EPOCHS, 'g-o', label='Epochs')\n",
        "plt.legend(loc='upper right')\n",
        "plt.title('Training epochs for each fold')\n",
        "plt.xlabel('Fold')\n",
        "plt.ylabel('Epochs')\n",
        "plt.show()"
      ],
      "metadata": {
        "colab": {
          "base_uri": "https://localhost:8080/",
          "height": 621
        },
        "id": "d9_5ddadBvAQ",
        "outputId": "e29a43f3-9c31-4d73-d436-c7f0bcb2596f"
      },
      "execution_count": null,
      "outputs": [
        {
          "output_type": "display_data",
          "data": {
            "text/plain": [
              "<Figure size 720x720 with 1 Axes>"
            ],
            "image/png": "[encoded data removed]"
          },
          "metadata": {
            "needs_background": "light"
          }
        }
      ]
    },
    {
      "cell_type": "markdown",
      "source": [
        "## Guardando el modelo."
      ],
      "metadata": {
        "id": "M-0eNAU5ejXS"
      }
    },
    {
      "cell_type": "markdown",
      "source": [
        "Nos ubicamos en la carpeta correspondiente para guardar el modelo."
      ],
      "metadata": {
        "id": "w1TtIuhRemgy"
      }
    },
    {
      "cell_type": "code",
      "source": [
        "%cd ..\n",
        "%cd ..\n",
        "%cd .."
      ],
      "metadata": {
        "colab": {
          "base_uri": "https://localhost:8080/"
        },
        "id": "wd3ZAk-Y5u9Q",
        "outputId": "6d0a6543-25ca-4051-824a-1ac0c45fed5c"
      },
      "execution_count": null,
      "outputs": [
        {
          "output_type": "stream",
          "name": "stdout",
          "text": [
            "/content/drive/.shortcut-targets-by-id/1-jD7WLMdUgZYVERC_Q9SBlSQEm5HyziM\n",
            "/content/drive/.shortcut-targets-by-id\n",
            "/content/drive\n"
          ]
        }
      ]
    },
    {
      "cell_type": "code",
      "source": [
        "%cd MyDrive/SKUs/Modelo\\ Isra/model/IS model"
      ],
      "metadata": {
        "colab": {
          "base_uri": "https://localhost:8080/"
        },
        "id": "ZQ0Rby6z583-",
        "outputId": "8beb5792-cb04-43e8-8bdc-d595a3b98f85"
      },
      "execution_count": null,
      "outputs": [
        {
          "output_type": "stream",
          "name": "stdout",
          "text": [
            "/content/drive/MyDrive/SKUs/Modelo Isra/model/IS model\n"
          ]
        }
      ]
    },
    {
      "cell_type": "markdown",
      "source": [
        "Se obtiene el último modelo con mejor desempeño."
      ],
      "metadata": {
        "id": "tuPLG38herRL"
      }
    },
    {
      "cell_type": "code",
      "source": [
        "#Cambiar dependiendo de la primer gráfica\n",
        "model_2_save = MODELS[7]\n",
        "model_2_save.summary()"
      ],
      "metadata": {
        "colab": {
          "base_uri": "https://localhost:8080/"
        },
        "id": "yhP4-NJX5_JP",
        "outputId": "72563b56-0efe-4a39-84c0-0bd3fcea91f8"
      },
      "execution_count": null,
      "outputs": [
        {
          "output_type": "stream",
          "name": "stdout",
          "text": [
            "Model: \"sequential_9\"\n",
            "_________________________________________________________________\n",
            " Layer (type)                Output Shape              Param #   \n",
            "=================================================================\n",
            " sequential (Sequential)     (None, 224, 224, 3)       0         \n",
            "                                                                 \n",
            " rescaling_9 (Rescaling)     (None, 224, 224, 3)       0         \n",
            "                                                                 \n",
            " conv2d_24 (Conv2D)          (None, 224, 224, 16)      448       \n",
            "                                                                 \n",
            " max_pooling2d_24 (MaxPoolin  (None, 112, 112, 16)     0         \n",
            " g2D)                                                            \n",
            "                                                                 \n",
            " conv2d_25 (Conv2D)          (None, 112, 112, 32)      4640      \n",
            "                                                                 \n",
            " max_pooling2d_25 (MaxPoolin  (None, 56, 56, 32)       0         \n",
            " g2D)                                                            \n",
            "                                                                 \n",
            " conv2d_26 (Conv2D)          (None, 56, 56, 64)        18496     \n",
            "                                                                 \n",
            " max_pooling2d_26 (MaxPoolin  (None, 28, 28, 64)       0         \n",
            " g2D)                                                            \n",
            "                                                                 \n",
            " dropout_8 (Dropout)         (None, 28, 28, 64)        0         \n",
            "                                                                 \n",
            " flatten_8 (Flatten)         (None, 50176)             0         \n",
            "                                                                 \n",
            " dense_16 (Dense)            (None, 128)               6422656   \n",
            "                                                                 \n",
            " dense_17 (Dense)            (None, 21)                2709      \n",
            "                                                                 \n",
            "=================================================================\n",
            "Total params: 6,448,949\n",
            "Trainable params: 6,448,949\n",
            "Non-trainable params: 0\n",
            "_________________________________________________________________\n"
          ]
        }
      ]
    },
    {
      "cell_type": "code",
      "source": [
        "#Cambiar el nombre basándose en el número de skus a predecir\n",
        "model_2_save.save('IS_model_21skus_new')"
      ],
      "metadata": {
        "colab": {
          "base_uri": "https://localhost:8080/"
        },
        "id": "D1DCdp7G60aV",
        "outputId": "7f58ccac-e67e-47a0-ac74-0645aae8387f"
      },
      "execution_count": null,
      "outputs": [
        {
          "output_type": "stream",
          "name": "stderr",
          "text": [
            "WARNING:absl:Found untraced functions such as _jit_compiled_convolution_op, _jit_compiled_convolution_op, _jit_compiled_convolution_op while saving (showing 3 of 3). These functions will not be directly callable after loading.\n"
          ]
        }
      ]
    },
    {
      "cell_type": "markdown",
      "source": [
        "Volvemos a ubicarnos en el folder de datos para entrenar el siguiente modelo."
      ],
      "metadata": {
        "id": "CFsDac4Fe8Bg"
      }
    },
    {
      "cell_type": "code",
      "source": [
        "%cd ..\n",
        "%cd .. \n",
        "%cd .. \n",
        "%cd .."
      ],
      "metadata": {
        "colab": {
          "base_uri": "https://localhost:8080/"
        },
        "id": "wMemXLan77vu",
        "outputId": "38ae44a3-90b9-412d-ef7f-127320f25e06"
      },
      "execution_count": null,
      "outputs": [
        {
          "output_type": "stream",
          "name": "stdout",
          "text": [
            "/content/drive/MyDrive/SKUs/Modelo Isra/model\n",
            "/content/drive/MyDrive/SKUs/Modelo Isra\n",
            "/content/drive/MyDrive/SKUs\n",
            "/content/drive/MyDrive\n"
          ]
        }
      ]
    },
    {
      "cell_type": "code",
      "source": [
        "%cd Sprite_refri"
      ],
      "metadata": {
        "colab": {
          "base_uri": "https://localhost:8080/"
        },
        "id": "Z0fWLFfd8KwL",
        "outputId": "a281eb73-832c-43ff-fcc8-62481539aaac"
      },
      "execution_count": null,
      "outputs": [
        {
          "output_type": "stream",
          "name": "stdout",
          "text": [
            "/content/drive/.shortcut-targets-by-id/1-jD7WLMdUgZYVERC_Q9SBlSQEm5HyziM/Sprite_refri\n"
          ]
        }
      ]
    },
    {
      "cell_type": "markdown",
      "source": [
        "# Entrenando el segundo modelo."
      ],
      "metadata": {
        "id": "WslT6SV5fI-4"
      }
    },
    {
      "cell_type": "markdown",
      "source": [
        "Se sigue el mismo procedimiento para el segundo modelo, se entrena por caqda fold, cambiando las imagenes a la carpeta de validación y entrenamiento según el fold, se generan sus respectivas gráficas y finalmente se guarda el modelo con mejor desempeño."
      ],
      "metadata": {
        "id": "Wo7V8cUqfUe1"
      }
    },
    {
      "cell_type": "code",
      "source": [
        "MODELS = []\n",
        "VAL_ACCURACY = []\n",
        "EPOCHS = []\n",
        "\n",
        "for i, (train_index, val_index) in enumerate(k_fold.split(np.zeros(n), Y)):\n",
        "  train_data = data.iloc[train_index]\n",
        "  val_data = data.iloc[val_index]\n",
        "\n",
        "  new_paths = []\n",
        "\n",
        "  for val_file in val_data[['filename']].values:\n",
        "    new_path = os.getcwd() + '/validation/' + val_file[0].split('/')[-2]\n",
        "    shutil.move(val_file[0], new_path)\n",
        "    new_paths.append(new_path + '/' + val_file[0].split('/')[-1])\n",
        "  \n",
        "  train_dataset = tf.keras.utils.image_dataset_from_directory(\n",
        "      train_data_dir,\n",
        "      seed=123,\n",
        "      image_size=(img_height, img_width),\n",
        "      batch_size=batch_size\n",
        "      )\n",
        "  val_dataset = tf.keras.utils.image_dataset_from_directory(\n",
        "      val_data_dir,\n",
        "      seed=123,\n",
        "      image_size=(img_height, img_width),\n",
        "      batch_size=batch_size\n",
        "      )\n",
        "  \n",
        "  train_dataset = train_dataset.cache().shuffle(1000).prefetch(buffer_size=AUTOTUNE)\n",
        "  val_dataset = val_dataset.cache().prefetch(buffer_size=AUTOTUNE)\n",
        "  \n",
        "  #Se usa un modelo VGG16 sin su última capa y con los pesos de imagenet\n",
        "  model = VGG16(include_top=False, input_shape=(img_height, img_width, 3), weights='imagenet', classifier_activation='softmax')\n",
        "  \n",
        "  #Se hacen las configuraciones necesarias al modelo, se quitan capas entrenables y se agregan nuevas capas densas y de dropout\n",
        "  for layer in model.layers:\n",
        "    layer.trainable = False\n",
        "  non_trainable = layers.Flatten()(model.output)\n",
        "  non_trainable = layers.Dense(1024, activation='relu')(non_trainable)\n",
        "  non_trainable = layers.Dropout(0.2)(non_trainable)\n",
        "  non_trainable = layers.Dense(CLASSES, activation='softmax')(non_trainable)\n",
        "  model = keras.models.Model(model.input, non_trainable)\n",
        "\n",
        "  #Se compila con Adam, sparse categorical crossentropy y se recopila su accuracy\n",
        "  model.compile(optimizer=Adam(learning_rate=0.01), loss=keras.losses.SparseCategoricalCrossentropy(from_logits=True), metrics=['accuracy'])\n",
        "  \n",
        "  #Se hace un early stopping y se entrena el modelo\n",
        "  callback = tf.keras.callbacks.EarlyStopping(monitor='accuracy', patience=3, verbose=10, restore_best_weights=True)\n",
        "  history = model.fit(\n",
        "    train_dataset, \n",
        "    validation_data=val_dataset, \n",
        "    batch_size=batch_size, \n",
        "    epochs=epochs, \n",
        "    callbacks=[callback])\n",
        "  \n",
        "  #Se calculan y recopilan las métricas del modelo\n",
        "  score = model.evaluate(val_dataset)[1]\n",
        "  VAL_ACCURACY.append(score)\n",
        "\n",
        "  MODELS.append(model)\n",
        "  EPOCHS.append(history.epoch[-1])\n",
        "\n",
        "  print(f'Fold {i + 1} accuracy: {score}')\n",
        "\n",
        "  for val_file in new_paths:\n",
        "    new_path = os.getcwd() + '/train/' + val_file.split('/')[-2]\n",
        "    shutil.move(val_file, new_path)\n",
        "\n",
        "print(f'The model has an overall accuracy of {np.average(VAL_ACCURACY)} +/- {np.std(VAL_ACCURACY)}')\n"
      ],
      "metadata": {
        "colab": {
          "base_uri": "https://localhost:8080/"
        },
        "id": "xsXgmMO5o5Ka",
        "outputId": "6bf9b014-308c-4729-b45b-1f2a0b7e5d84"
      },
      "execution_count": null,
      "outputs": [
        {
          "output_type": "stream",
          "name": "stderr",
          "text": [
            "/usr/local/lib/python3.8/dist-packages/sklearn/model_selection/_split.py:676: UserWarning: The least populated class in y has only 7 members, which is less than n_splits=10.\n",
            "  warnings.warn(\n"
          ]
        },
        {
          "output_type": "stream",
          "name": "stdout",
          "text": [
            "Found 302 files belonging to 21 classes.\n",
            "Found 34 files belonging to 21 classes.\n",
            "Downloading data from https://storage.googleapis.com/tensorflow/keras-applications/vgg16/vgg16_weights_tf_dim_ordering_tf_kernels_notop.h5\n",
            "58889256/58889256 [==============================] - 2s 0us/step\n",
            "Epoch 1/20\n"
          ]
        },
        {
          "output_type": "stream",
          "name": "stderr",
          "text": [
            "/usr/local/lib/python3.8/dist-packages/tensorflow/python/util/dispatch.py:1082: UserWarning: \"`sparse_categorical_crossentropy` received `from_logits=True`, but the `output` argument was produced by a sigmoid or softmax activation and thus does not represent logits. Was this intended?\"\n",
            "  return dispatch_target(*args, **kwargs)\n"
          ]
        },
        {
          "output_type": "stream",
          "name": "stdout",
          "text": [
            "10/10 [==============================] - 12s 647ms/step - loss: 1435.2330 - accuracy: 0.3775 - val_loss: 341.3575 - val_accuracy: 0.6765\n",
            "Epoch 2/20\n",
            "10/10 [==============================] - 2s 182ms/step - loss: 159.6078 - accuracy: 0.8013 - val_loss: 30.5625 - val_accuracy: 0.8824\n",
            "Epoch 3/20\n",
            "10/10 [==============================] - 2s 182ms/step - loss: 14.1678 - accuracy: 0.9603 - val_loss: 31.6574 - val_accuracy: 0.8824\n",
            "Epoch 4/20\n",
            "10/10 [==============================] - 2s 183ms/step - loss: 11.4194 - accuracy: 0.9834 - val_loss: 90.8483 - val_accuracy: 0.9412\n",
            "Epoch 5/20\n",
            "10/10 [==============================] - 2s 171ms/step - loss: 8.3794 - accuracy: 0.9768 - val_loss: 32.0621 - val_accuracy: 0.9412\n",
            "Epoch 6/20\n",
            "10/10 [==============================] - 2s 174ms/step - loss: 9.4741 - accuracy: 0.9801 - val_loss: 25.6239 - val_accuracy: 0.9412\n",
            "Epoch 7/20\n",
            "10/10 [==============================] - 2s 183ms/step - loss: 3.7554 - accuracy: 0.9868 - val_loss: 37.5509 - val_accuracy: 0.9118\n",
            "Epoch 8/20\n",
            "10/10 [==============================] - 2s 175ms/step - loss: 11.6810 - accuracy: 0.9834 - val_loss: 3.0601 - val_accuracy: 0.9706\n",
            "Epoch 9/20\n",
            "10/10 [==============================] - 2s 185ms/step - loss: 0.0000e+00 - accuracy: 1.0000 - val_loss: 6.0406 - val_accuracy: 0.9706\n",
            "Epoch 10/20\n",
            "10/10 [==============================] - 2s 175ms/step - loss: 2.0207 - accuracy: 0.9967 - val_loss: 7.9407 - val_accuracy: 0.9706\n",
            "Epoch 11/20\n",
            "10/10 [==============================] - 2s 184ms/step - loss: 0.0573 - accuracy: 0.9967 - val_loss: 10.4094 - val_accuracy: 0.9706\n",
            "Epoch 12/20\n",
            "10/10 [==============================] - ETA: 0s - loss: 0.1433 - accuracy: 0.9967    Restoring model weights from the end of the best epoch: 9.\n",
            "10/10 [==============================] - 2s 183ms/step - loss: 0.1433 - accuracy: 0.9967 - val_loss: 10.9155 - val_accuracy: 0.9706\n",
            "Epoch 12: early stopping\n",
            "2/2 [==============================] - 0s 28ms/step - loss: 6.0406 - accuracy: 0.9706\n",
            "Fold 1 accuracy: 0.970588207244873\n",
            "Found 302 files belonging to 21 classes.\n",
            "Found 34 files belonging to 21 classes.\n",
            "Epoch 1/20\n",
            "10/10 [==============================] - 7s 252ms/step - loss: 1326.0669 - accuracy: 0.3808 - val_loss: 235.9651 - val_accuracy: 0.6765\n",
            "Epoch 2/20\n",
            "10/10 [==============================] - 2s 180ms/step - loss: 162.5672 - accuracy: 0.8510 - val_loss: 35.5661 - val_accuracy: 0.9412\n",
            "Epoch 3/20\n",
            "10/10 [==============================] - 2s 181ms/step - loss: 22.3447 - accuracy: 0.9470 - val_loss: 0.0000e+00 - val_accuracy: 1.0000\n",
            "Epoch 4/20\n",
            "10/10 [==============================] - 2s 181ms/step - loss: 5.6622 - accuracy: 0.9901 - val_loss: 0.0000e+00 - val_accuracy: 1.0000\n",
            "Epoch 5/20\n",
            "10/10 [==============================] - 2s 170ms/step - loss: 5.1541 - accuracy: 0.9901 - val_loss: 0.0000e+00 - val_accuracy: 1.0000\n",
            "Epoch 6/20\n",
            "10/10 [==============================] - 2s 178ms/step - loss: 5.1541 - accuracy: 0.9901 - val_loss: 0.0000e+00 - val_accuracy: 1.0000\n",
            "Epoch 7/20\n",
            "10/10 [==============================] - 2s 182ms/step - loss: 0.0000e+00 - accuracy: 1.0000 - val_loss: 2.6757 - val_accuracy: 0.9706\n",
            "Epoch 8/20\n",
            "10/10 [==============================] - 2s 170ms/step - loss: 3.9997 - accuracy: 0.9901 - val_loss: 0.0000e+00 - val_accuracy: 1.0000\n",
            "Epoch 9/20\n",
            "10/10 [==============================] - 2s 173ms/step - loss: 0.0000e+00 - accuracy: 1.0000 - val_loss: 0.0000e+00 - val_accuracy: 1.0000\n",
            "Epoch 10/20\n",
            "10/10 [==============================] - ETA: 0s - loss: 3.3827e-07 - accuracy: 1.0000Restoring model weights from the end of the best epoch: 7.\n",
            "10/10 [==============================] - 2s 186ms/step - loss: 3.3827e-07 - accuracy: 1.0000 - val_loss: 0.0000e+00 - val_accuracy: 1.0000\n",
            "Epoch 10: early stopping\n",
            "2/2 [==============================] - 0s 29ms/step - loss: 2.6757 - accuracy: 0.9706\n",
            "Fold 2 accuracy: 0.970588207244873\n",
            "Found 302 files belonging to 21 classes.\n",
            "Found 34 files belonging to 21 classes.\n",
            "Epoch 1/20\n",
            "10/10 [==============================] - 6s 265ms/step - loss: 1154.4275 - accuracy: 0.4470 - val_loss: 83.1319 - val_accuracy: 0.7941\n",
            "Epoch 2/20\n",
            "10/10 [==============================] - 2s 185ms/step - loss: 65.4666 - accuracy: 0.8775 - val_loss: 38.0149 - val_accuracy: 0.9412\n",
            "Epoch 3/20\n",
            "10/10 [==============================] - 2s 182ms/step - loss: 8.6654 - accuracy: 0.9570 - val_loss: 7.3564 - val_accuracy: 0.9706\n",
            "Epoch 4/20\n",
            "10/10 [==============================] - 2s 193ms/step - loss: 3.9463 - accuracy: 0.9801 - val_loss: 11.2961 - val_accuracy: 0.9706\n",
            "Epoch 5/20\n",
            "10/10 [==============================] - 2s 181ms/step - loss: 3.4229 - accuracy: 0.9901 - val_loss: 1.2879 - val_accuracy: 0.9706\n",
            "Epoch 6/20\n",
            "10/10 [==============================] - 2s 172ms/step - loss: 11.7685 - accuracy: 0.9801 - val_loss: 113.9756 - val_accuracy: 0.8824\n",
            "Epoch 7/20\n",
            "10/10 [==============================] - 2s 173ms/step - loss: 21.4599 - accuracy: 0.9801 - val_loss: 27.9090 - val_accuracy: 0.9412\n",
            "Epoch 8/20\n",
            "10/10 [==============================] - ETA: 0s - loss: 9.3174 - accuracy: 0.9702Restoring model weights from the end of the best epoch: 5.\n",
            "10/10 [==============================] - 2s 177ms/step - loss: 9.3174 - accuracy: 0.9702 - val_loss: 0.0000e+00 - val_accuracy: 1.0000\n",
            "Epoch 8: early stopping\n",
            "2/2 [==============================] - 0s 24ms/step - loss: 1.2879 - accuracy: 0.9706\n",
            "Fold 3 accuracy: 0.970588207244873\n",
            "Found 302 files belonging to 21 classes.\n",
            "Found 34 files belonging to 21 classes.\n",
            "Epoch 1/20\n",
            "10/10 [==============================] - 7s 258ms/step - loss: 1796.9886 - accuracy: 0.3576 - val_loss: 304.4509 - val_accuracy: 0.6176\n",
            "Epoch 2/20\n",
            "10/10 [==============================] - 2s 181ms/step - loss: 132.3625 - accuracy: 0.8742 - val_loss: 236.3041 - val_accuracy: 0.8235\n",
            "Epoch 3/20\n",
            "10/10 [==============================] - 2s 181ms/step - loss: 61.6248 - accuracy: 0.9338 - val_loss: 65.8047 - val_accuracy: 0.8529\n",
            "Epoch 4/20\n",
            "10/10 [==============================] - 2s 182ms/step - loss: 24.1403 - accuracy: 0.9636 - val_loss: 27.7475 - val_accuracy: 0.9412\n",
            "Epoch 5/20\n",
            "10/10 [==============================] - 2s 183ms/step - loss: 13.1877 - accuracy: 0.9768 - val_loss: 13.7997 - val_accuracy: 0.9706\n",
            "Epoch 6/20\n",
            "10/10 [==============================] - 2s 182ms/step - loss: 2.3520 - accuracy: 0.9967 - val_loss: 60.2593 - val_accuracy: 0.9118\n",
            "Epoch 7/20\n",
            "10/10 [==============================] - 2s 170ms/step - loss: 1.7353 - accuracy: 0.9868 - val_loss: 10.9898 - val_accuracy: 0.9706\n",
            "Epoch 8/20\n",
            "10/10 [==============================] - 2s 181ms/step - loss: 0.0000e+00 - accuracy: 1.0000 - val_loss: 6.1483 - val_accuracy: 0.9706\n",
            "Epoch 9/20\n",
            "10/10 [==============================] - 2s 172ms/step - loss: 1.1369 - accuracy: 0.9934 - val_loss: 3.5020 - val_accuracy: 0.9706\n",
            "Epoch 10/20\n",
            "10/10 [==============================] - 2s 173ms/step - loss: 3.3870 - accuracy: 0.9967 - val_loss: 3.8148 - val_accuracy: 0.9706\n",
            "Epoch 11/20\n",
            "10/10 [==============================] - ETA: 0s - loss: 8.8725 - accuracy: 0.9934    Restoring model weights from the end of the best epoch: 8.\n",
            "10/10 [==============================] - 2s 180ms/step - loss: 8.8725 - accuracy: 0.9934 - val_loss: 7.7922 - val_accuracy: 0.9706\n",
            "Epoch 11: early stopping\n",
            "2/2 [==============================] - 0s 23ms/step - loss: 6.1483 - accuracy: 0.9706\n",
            "Fold 4 accuracy: 0.970588207244873\n",
            "Found 302 files belonging to 21 classes.\n",
            "Found 34 files belonging to 21 classes.\n",
            "Epoch 1/20\n",
            "10/10 [==============================] - 6s 258ms/step - loss: 1483.4456 - accuracy: 0.3609 - val_loss: 253.8071 - val_accuracy: 0.7353\n",
            "Epoch 2/20\n",
            "10/10 [==============================] - 2s 183ms/step - loss: 79.0431 - accuracy: 0.8775 - val_loss: 22.4664 - val_accuracy: 0.9118\n",
            "Epoch 3/20\n",
            "10/10 [==============================] - 2s 181ms/step - loss: 16.4197 - accuracy: 0.9702 - val_loss: 0.0000e+00 - val_accuracy: 1.0000\n",
            "Epoch 4/20\n",
            "10/10 [==============================] - 2s 183ms/step - loss: 8.7233 - accuracy: 0.9834 - val_loss: 0.0000e+00 - val_accuracy: 1.0000\n",
            "Epoch 5/20\n",
            "10/10 [==============================] - 2s 181ms/step - loss: 1.9096 - accuracy: 0.9967 - val_loss: 0.0000e+00 - val_accuracy: 1.0000\n",
            "Epoch 6/20\n",
            "10/10 [==============================] - 2s 169ms/step - loss: 2.7762 - accuracy: 0.9901 - val_loss: 0.0000e+00 - val_accuracy: 1.0000\n",
            "Epoch 7/20\n",
            "10/10 [==============================] - 2s 171ms/step - loss: 1.3703 - accuracy: 0.9934 - val_loss: 0.0000e+00 - val_accuracy: 1.0000\n",
            "Epoch 8/20\n",
            "10/10 [==============================] - ETA: 0s - loss: 5.1439 - accuracy: 0.9934Restoring model weights from the end of the best epoch: 5.\n",
            "10/10 [==============================] - 2s 177ms/step - loss: 5.1439 - accuracy: 0.9934 - val_loss: 0.0000e+00 - val_accuracy: 1.0000\n",
            "Epoch 8: early stopping\n",
            "2/2 [==============================] - 0s 24ms/step - loss: 0.0000e+00 - accuracy: 1.0000\n",
            "Fold 5 accuracy: 1.0\n",
            "Found 302 files belonging to 21 classes.\n",
            "Found 34 files belonging to 21 classes.\n",
            "Epoch 1/20\n",
            "10/10 [==============================] - 6s 256ms/step - loss: 1258.3950 - accuracy: 0.3675 - val_loss: 55.5707 - val_accuracy: 0.8824\n",
            "Epoch 2/20\n",
            "10/10 [==============================] - 2s 181ms/step - loss: 121.3855 - accuracy: 0.8344 - val_loss: 82.9339 - val_accuracy: 0.8824\n",
            "Epoch 3/20\n",
            "10/10 [==============================] - 2s 182ms/step - loss: 11.2150 - accuracy: 0.9702 - val_loss: 83.5790 - val_accuracy: 0.9412\n",
            "Epoch 4/20\n",
            "10/10 [==============================] - 2s 181ms/step - loss: 6.5221 - accuracy: 0.9735 - val_loss: 1.3285 - val_accuracy: 0.9706\n",
            "Epoch 5/20\n",
            "10/10 [==============================] - 2s 181ms/step - loss: 17.7151 - accuracy: 0.9768 - val_loss: 0.0000e+00 - val_accuracy: 1.0000\n",
            "Epoch 6/20\n",
            "10/10 [==============================] - 2s 184ms/step - loss: 7.7002 - accuracy: 0.9967 - val_loss: 6.7883 - val_accuracy: 0.9706\n",
            "Epoch 7/20\n",
            "10/10 [==============================] - 2s 171ms/step - loss: 0.0515 - accuracy: 0.9967 - val_loss: 6.5865 - val_accuracy: 0.9706\n",
            "Epoch 8/20\n",
            "10/10 [==============================] - 2s 172ms/step - loss: 0.9406 - accuracy: 0.9967 - val_loss: 7.0029 - val_accuracy: 0.9706\n",
            "Epoch 9/20\n",
            "10/10 [==============================] - ETA: 0s - loss: 4.1388 - accuracy: 0.9868Restoring model weights from the end of the best epoch: 6.\n",
            "10/10 [==============================] - 2s 179ms/step - loss: 4.1388 - accuracy: 0.9868 - val_loss: 0.0000e+00 - val_accuracy: 1.0000\n",
            "Epoch 9: early stopping\n",
            "2/2 [==============================] - 0s 24ms/step - loss: 6.7883 - accuracy: 0.9706\n",
            "Fold 6 accuracy: 0.970588207244873\n",
            "Found 303 files belonging to 21 classes.\n",
            "Found 33 files belonging to 21 classes.\n",
            "Epoch 1/20\n",
            "10/10 [==============================] - 9s 491ms/step - loss: 1265.7622 - accuracy: 0.3498 - val_loss: 136.2972 - val_accuracy: 0.8182\n",
            "Epoch 2/20\n",
            "10/10 [==============================] - 2s 192ms/step - loss: 68.1008 - accuracy: 0.8779 - val_loss: 14.8584 - val_accuracy: 0.9394\n",
            "Epoch 3/20\n",
            "10/10 [==============================] - 2s 181ms/step - loss: 34.6738 - accuracy: 0.9604 - val_loss: 6.1073 - val_accuracy: 0.9394\n",
            "Epoch 4/20\n",
            "10/10 [==============================] - 2s 183ms/step - loss: 12.6533 - accuracy: 0.9703 - val_loss: 59.1959 - val_accuracy: 0.9394\n",
            "Epoch 5/20\n",
            "10/10 [==============================] - 2s 171ms/step - loss: 18.2518 - accuracy: 0.9703 - val_loss: 37.8389 - val_accuracy: 0.9394\n",
            "Epoch 6/20\n",
            "10/10 [==============================] - 2s 188ms/step - loss: 14.9356 - accuracy: 0.9769 - val_loss: 5.4327 - val_accuracy: 0.9697\n",
            "Epoch 7/20\n",
            "10/10 [==============================] - 2s 171ms/step - loss: 20.6916 - accuracy: 0.9769 - val_loss: 62.0901 - val_accuracy: 0.9697\n",
            "Epoch 8/20\n",
            "10/10 [==============================] - 2s 184ms/step - loss: 23.6641 - accuracy: 0.9802 - val_loss: 42.5419 - val_accuracy: 0.9697\n",
            "Epoch 9/20\n",
            "10/10 [==============================] - 2s 180ms/step - loss: 1.8795 - accuracy: 0.9934 - val_loss: 19.6383 - val_accuracy: 0.9697\n",
            "Epoch 10/20\n",
            "10/10 [==============================] - 2s 172ms/step - loss: 5.6678 - accuracy: 0.9868 - val_loss: 44.1421 - val_accuracy: 0.9697\n",
            "Epoch 11/20\n",
            "10/10 [==============================] - 2s 172ms/step - loss: 1.2348 - accuracy: 0.9934 - val_loss: 102.6589 - val_accuracy: 0.9697\n",
            "Epoch 12/20\n",
            "10/10 [==============================] - ETA: 0s - loss: 10.1207 - accuracy: 0.9901Restoring model weights from the end of the best epoch: 9.\n",
            "10/10 [==============================] - 2s 178ms/step - loss: 10.1207 - accuracy: 0.9901 - val_loss: 0.0000e+00 - val_accuracy: 1.0000\n",
            "Epoch 12: early stopping\n",
            "2/2 [==============================] - 0s 19ms/step - loss: 19.6383 - accuracy: 0.9697\n",
            "Fold 7 accuracy: 0.9696969985961914\n",
            "Found 303 files belonging to 21 classes.\n",
            "Found 33 files belonging to 21 classes.\n",
            "Epoch 1/20\n",
            "10/10 [==============================] - 6s 261ms/step - loss: 1285.3137 - accuracy: 0.3861 - val_loss: 89.0024 - val_accuracy: 0.9091\n",
            "Epoch 2/20\n",
            "10/10 [==============================] - 2s 178ms/step - loss: 44.8311 - accuracy: 0.8845 - val_loss: 9.6524 - val_accuracy: 0.9394\n",
            "Epoch 3/20\n",
            "10/10 [==============================] - 2s 180ms/step - loss: 5.8137 - accuracy: 0.9538 - val_loss: 30.3725 - val_accuracy: 0.9394\n",
            "Epoch 4/20\n",
            "10/10 [==============================] - 2s 168ms/step - loss: 21.0608 - accuracy: 0.9538 - val_loss: 14.4115 - val_accuracy: 0.9091\n",
            "Epoch 5/20\n",
            "10/10 [==============================] - 2s 181ms/step - loss: 8.9789 - accuracy: 0.9703 - val_loss: 2.4957 - val_accuracy: 0.9697\n",
            "Epoch 6/20\n",
            "10/10 [==============================] - 2s 180ms/step - loss: 13.8569 - accuracy: 0.9802 - val_loss: 0.6412 - val_accuracy: 0.9697\n",
            "Epoch 7/20\n",
            "10/10 [==============================] - 2s 180ms/step - loss: 0.9679 - accuracy: 0.9934 - val_loss: 0.0000e+00 - val_accuracy: 1.0000\n",
            "Epoch 8/20\n",
            "10/10 [==============================] - 2s 178ms/step - loss: 3.4536 - accuracy: 0.9901 - val_loss: 0.0000e+00 - val_accuracy: 1.0000\n",
            "Epoch 9/20\n",
            "10/10 [==============================] - 2s 171ms/step - loss: 7.8077 - accuracy: 0.9868 - val_loss: 61.8367 - val_accuracy: 0.8788\n",
            "Epoch 10/20\n",
            "10/10 [==============================] - ETA: 0s - loss: 6.0096 - accuracy: 0.9802Restoring model weights from the end of the best epoch: 7.\n",
            "10/10 [==============================] - 2s 178ms/step - loss: 6.0096 - accuracy: 0.9802 - val_loss: 22.6883 - val_accuracy: 0.9394\n",
            "Epoch 10: early stopping\n",
            "2/2 [==============================] - 0s 18ms/step - loss: 0.0000e+00 - accuracy: 1.0000\n",
            "Fold 8 accuracy: 1.0\n",
            "Found 303 files belonging to 21 classes.\n",
            "Found 33 files belonging to 21 classes.\n",
            "Epoch 1/20\n",
            "10/10 [==============================] - 6s 251ms/step - loss: 1271.3221 - accuracy: 0.3531 - val_loss: 66.0327 - val_accuracy: 0.8788\n",
            "Epoch 2/20\n",
            "10/10 [==============================] - 2s 183ms/step - loss: 94.3293 - accuracy: 0.8779 - val_loss: 81.3666 - val_accuracy: 0.8182\n",
            "Epoch 3/20\n",
            "10/10 [==============================] - 2s 183ms/step - loss: 21.5137 - accuracy: 0.9604 - val_loss: 96.8671 - val_accuracy: 0.8485\n",
            "Epoch 4/20\n",
            "10/10 [==============================] - 2s 183ms/step - loss: 10.5667 - accuracy: 0.9736 - val_loss: 28.7764 - val_accuracy: 0.9394\n",
            "Epoch 5/20\n",
            "10/10 [==============================] - 2s 184ms/step - loss: 16.1711 - accuracy: 0.9835 - val_loss: 0.0000e+00 - val_accuracy: 1.0000\n",
            "Epoch 6/20\n",
            "10/10 [==============================] - 2s 184ms/step - loss: 0.5133 - accuracy: 0.9934 - val_loss: 49.9597 - val_accuracy: 0.9394\n",
            "Epoch 7/20\n",
            "10/10 [==============================] - 2s 173ms/step - loss: 5.5124 - accuracy: 0.9901 - val_loss: 0.0000e+00 - val_accuracy: 1.0000\n",
            "Epoch 8/20\n",
            "10/10 [==============================] - 2s 173ms/step - loss: 0.8784 - accuracy: 0.9934 - val_loss: 29.5787 - val_accuracy: 0.9697\n",
            "Epoch 9/20\n",
            "10/10 [==============================] - ETA: 0s - loss: 3.8779 - accuracy: 0.9835Restoring model weights from the end of the best epoch: 6.\n",
            "10/10 [==============================] - 2s 179ms/step - loss: 3.8779 - accuracy: 0.9835 - val_loss: 111.6783 - val_accuracy: 0.9394\n",
            "Epoch 9: early stopping\n",
            "2/2 [==============================] - 0s 17ms/step - loss: 49.9597 - accuracy: 0.9394\n",
            "Fold 9 accuracy: 0.939393937587738\n",
            "Found 303 files belonging to 21 classes.\n",
            "Found 33 files belonging to 21 classes.\n",
            "Epoch 1/20\n",
            "10/10 [==============================] - 7s 257ms/step - loss: 1484.0052 - accuracy: 0.3663 - val_loss: 535.1887 - val_accuracy: 0.6061\n",
            "Epoch 2/20\n",
            "10/10 [==============================] - 2s 181ms/step - loss: 95.8772 - accuracy: 0.8548 - val_loss: 16.3661 - val_accuracy: 0.9697\n",
            "Epoch 3/20\n",
            "10/10 [==============================] - 2s 181ms/step - loss: 43.0483 - accuracy: 0.9538 - val_loss: 30.8750 - val_accuracy: 0.9091\n",
            "Epoch 4/20\n",
            "10/10 [==============================] - 2s 182ms/step - loss: 23.0371 - accuracy: 0.9670 - val_loss: 64.3077 - val_accuracy: 0.9091\n",
            "Epoch 5/20\n",
            "10/10 [==============================] - 2s 181ms/step - loss: 1.1310 - accuracy: 0.9934 - val_loss: 0.0000e+00 - val_accuracy: 1.0000\n",
            "Epoch 6/20\n",
            "10/10 [==============================] - 2s 173ms/step - loss: 6.9249 - accuracy: 0.9934 - val_loss: 214.6459 - val_accuracy: 0.9091\n",
            "Epoch 7/20\n",
            "10/10 [==============================] - 2s 183ms/step - loss: 10.5860 - accuracy: 0.9835 - val_loss: 164.2227 - val_accuracy: 0.9697\n",
            "Epoch 8/20\n",
            "10/10 [==============================] - ETA: 0s - loss: 9.3906 - accuracy: 0.9934Restoring model weights from the end of the best epoch: 5.\n",
            "10/10 [==============================] - 2s 180ms/step - loss: 9.3906 - accuracy: 0.9934 - val_loss: 2.3184 - val_accuracy: 0.9697\n",
            "Epoch 8: early stopping\n",
            "2/2 [==============================] - 0s 18ms/step - loss: 0.0000e+00 - accuracy: 1.0000\n",
            "Fold 10 accuracy: 1.0\n",
            "The model has an overall accuracy of 0.9762031972408295 +/- 0.018038171317964157\n"
          ]
        }
      ]
    },
    {
      "cell_type": "markdown",
      "source": [
        "Se generan sus gráficas."
      ],
      "metadata": {
        "id": "wUsjU21wgHfH"
      }
    },
    {
      "cell_type": "code",
      "source": [
        "plt.figure(figsize=(10, 10))\n",
        "plt.plot(range(1, 11), VAL_ACCURACY, 'b-o', label='Accuracy')\n",
        "plt.legend(loc='lower right')\n",
        "plt.title('Accuracy of the model over the K-Fold training')"
      ],
      "metadata": {
        "colab": {
          "base_uri": "https://localhost:8080/",
          "height": 624
        },
        "id": "z3eVBSMwruDO",
        "outputId": "e89ee20a-a0a4-4e75-c10e-e9448018bd10"
      },
      "execution_count": null,
      "outputs": [
        {
          "output_type": "execute_result",
          "data": {
            "text/plain": [
              "Text(0.5, 1.0, 'Accuracy of the model over the K-Fold training')"
            ]
          },
          "metadata": {},
          "execution_count": 28
        },
        {
          "output_type": "display_data",
          "data": {
            "text/plain": [
              "<Figure size 720x720 with 1 Axes>"
            ],
            "image/png": "[encoded data removed]"
          },
          "metadata": {
            "needs_background": "light"
          }
        }
      ]
    },
    {
      "cell_type": "code",
      "source": [
        "plt.figure(figsize=(10, 10))\n",
        "plt.plot(range(1, 11), EPOCHS, 'g-o', label='Epochs')\n",
        "plt.legend(loc='upper right')\n",
        "plt.title('Training epochs for each fold')\n",
        "plt.xlabel('Fold')\n",
        "plt.ylabel('Epochs')\n",
        "plt.show()"
      ],
      "metadata": {
        "colab": {
          "base_uri": "https://localhost:8080/",
          "height": 621
        },
        "id": "i_EEdGWUCME6",
        "outputId": "6f152be5-4846-41c1-aa99-de39e1d559f3"
      },
      "execution_count": null,
      "outputs": [
        {
          "output_type": "display_data",
          "data": {
            "text/plain": [
              "<Figure size 720x720 with 1 Axes>"
            ],
            "image/png": "[encoded data removed]"
          },
          "metadata": {
            "needs_background": "light"
          }
        }
      ]
    },
    {
      "cell_type": "markdown",
      "source": [
        "Se eliminan los archivos generados."
      ],
      "metadata": {
        "id": "daoJaejtgK98"
      }
    },
    {
      "cell_type": "code",
      "source": [
        "os.remove('products.csv')\n",
        "shutil.rmtree('validation')"
      ],
      "metadata": {
        "id": "kxFMa-V8rTXU"
      },
      "execution_count": null,
      "outputs": []
    },
    {
      "cell_type": "markdown",
      "source": [
        "Se guarda el modelo en su respectiva carpeta"
      ],
      "metadata": {
        "id": "SpqC1wjXgdzc"
      }
    },
    {
      "cell_type": "code",
      "source": [
        "%cd ..\n",
        "%cd ..\n",
        "%cd .."
      ],
      "metadata": {
        "colab": {
          "base_uri": "https://localhost:8080/"
        },
        "id": "n0_fMNF7lyKq",
        "outputId": "0a745d72-edcd-49a8-bc7e-c5b621c0b400"
      },
      "execution_count": null,
      "outputs": [
        {
          "output_type": "stream",
          "name": "stdout",
          "text": [
            "/content/drive/.shortcut-targets-by-id/1-jD7WLMdUgZYVERC_Q9SBlSQEm5HyziM\n",
            "/content/drive/.shortcut-targets-by-id\n",
            "/content/drive\n"
          ]
        }
      ]
    },
    {
      "cell_type": "code",
      "source": [
        "%cd MyDrive/SKUs/Modelo\\ Isra/model/JOE model"
      ],
      "metadata": {
        "colab": {
          "base_uri": "https://localhost:8080/"
        },
        "id": "0V5xR236ly16",
        "outputId": "af26592b-7a4b-4298-8c43-0369c1a2bf7b"
      },
      "execution_count": null,
      "outputs": [
        {
          "output_type": "stream",
          "name": "stdout",
          "text": [
            "/content/drive/MyDrive/SKUs/Modelo Isra/model/JOE model\n"
          ]
        }
      ]
    },
    {
      "cell_type": "code",
      "source": [
        "#Cambiar basándose en la primera gráfica\n",
        "model_2_save = MODELS[9]\n",
        "model_2_save.summary()"
      ],
      "metadata": {
        "colab": {
          "base_uri": "https://localhost:8080/"
        },
        "id": "zD_4IW4Jl3l3",
        "outputId": "32284d9d-67f0-4988-812d-90f440b7b52a"
      },
      "execution_count": null,
      "outputs": [
        {
          "output_type": "stream",
          "name": "stdout",
          "text": [
            "Model: \"model_9\"\n",
            "_________________________________________________________________\n",
            " Layer (type)                Output Shape              Param #   \n",
            "=================================================================\n",
            " input_10 (InputLayer)       [(None, 224, 224, 3)]     0         \n",
            "                                                                 \n",
            " block1_conv1 (Conv2D)       (None, 224, 224, 64)      1792      \n",
            "                                                                 \n",
            " block1_conv2 (Conv2D)       (None, 224, 224, 64)      36928     \n",
            "                                                                 \n",
            " block1_pool (MaxPooling2D)  (None, 112, 112, 64)      0         \n",
            "                                                                 \n",
            " block2_conv1 (Conv2D)       (None, 112, 112, 128)     73856     \n",
            "                                                                 \n",
            " block2_conv2 (Conv2D)       (None, 112, 112, 128)     147584    \n",
            "                                                                 \n",
            " block2_pool (MaxPooling2D)  (None, 56, 56, 128)       0         \n",
            "                                                                 \n",
            " block3_conv1 (Conv2D)       (None, 56, 56, 256)       295168    \n",
            "                                                                 \n",
            " block3_conv2 (Conv2D)       (None, 56, 56, 256)       590080    \n",
            "                                                                 \n",
            " block3_conv3 (Conv2D)       (None, 56, 56, 256)       590080    \n",
            "                                                                 \n",
            " block3_pool (MaxPooling2D)  (None, 28, 28, 256)       0         \n",
            "                                                                 \n",
            " block4_conv1 (Conv2D)       (None, 28, 28, 512)       1180160   \n",
            "                                                                 \n",
            " block4_conv2 (Conv2D)       (None, 28, 28, 512)       2359808   \n",
            "                                                                 \n",
            " block4_conv3 (Conv2D)       (None, 28, 28, 512)       2359808   \n",
            "                                                                 \n",
            " block4_pool (MaxPooling2D)  (None, 14, 14, 512)       0         \n",
            "                                                                 \n",
            " block5_conv1 (Conv2D)       (None, 14, 14, 512)       2359808   \n",
            "                                                                 \n",
            " block5_conv2 (Conv2D)       (None, 14, 14, 512)       2359808   \n",
            "                                                                 \n",
            " block5_conv3 (Conv2D)       (None, 14, 14, 512)       2359808   \n",
            "                                                                 \n",
            " block5_pool (MaxPooling2D)  (None, 7, 7, 512)         0         \n",
            "                                                                 \n",
            " flatten_20 (Flatten)        (None, 25088)             0         \n",
            "                                                                 \n",
            " dense_40 (Dense)            (None, 1024)              25691136  \n",
            "                                                                 \n",
            " dropout_20 (Dropout)        (None, 1024)              0         \n",
            "                                                                 \n",
            " dense_41 (Dense)            (None, 21)                21525     \n",
            "                                                                 \n",
            "=================================================================\n",
            "Total params: 40,427,349\n",
            "Trainable params: 25,712,661\n",
            "Non-trainable params: 14,714,688\n",
            "_________________________________________________________________\n"
          ]
        }
      ]
    },
    {
      "cell_type": "code",
      "source": [
        "#Cambiar el nombre con base en el número de SKUs\n",
        "model_2_save.save('JOE_model_21skus_new')"
      ],
      "metadata": {
        "colab": {
          "base_uri": "https://localhost:8080/"
        },
        "id": "Y5ssHVEWl-GI",
        "outputId": "7d357ef3-3b8c-49bf-eb8c-3a8a576f466b"
      },
      "execution_count": null,
      "outputs": [
        {
          "output_type": "stream",
          "name": "stderr",
          "text": [
            "WARNING:absl:Found untraced functions such as _jit_compiled_convolution_op, _jit_compiled_convolution_op, _jit_compiled_convolution_op, _jit_compiled_convolution_op, _jit_compiled_convolution_op while saving (showing 5 of 13). These functions will not be directly callable after loading.\n"
          ]
        }
      ]
    }
  ]
}